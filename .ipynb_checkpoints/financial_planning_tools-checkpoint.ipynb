{
 "cells": [
  {
   "cell_type": "markdown",
   "metadata": {},
   "source": [
    "# Financial Planning with APIs and Simulations\n",
    "\n",
    "In this Challenge, you’ll create two financial analysis tools by using a single Jupyter notebook:\n",
    "\n",
    "Part 1: A financial planner for emergencies. The members will be able to use this tool to visualize their current savings. The members can then determine if they have enough reserves for an emergency fund.\n",
    "\n",
    "Part 2: A financial planner for retirement. This tool will forecast the performance of their retirement portfolio in 30 years. To do this, the tool will make an Alpaca API call via the Alpaca SDK to get historical price data for use in Monte Carlo simulations.\n",
    "\n",
    "You’ll use the information from the Monte Carlo simulation to answer questions about the portfolio in your Jupyter notebook.\n",
    "\n"
   ]
  },
  {
   "cell_type": "code",
   "execution_count": 1,
   "metadata": {},
   "outputs": [],
   "source": [
    "# Import the required libraries and dependencies\n",
    "import os\n",
    "import requests\n",
    "import json\n",
    "import pandas as pd\n",
    "from dotenv import load_dotenv\n",
    "import alpaca_trade_api as tradeapi\n",
    "from MCForecastTools import MCSimulation\n",
    "\n",
    "%matplotlib inline"
   ]
  },
  {
   "cell_type": "code",
   "execution_count": 2,
   "metadata": {},
   "outputs": [
    {
     "data": {
      "text/plain": [
       "True"
      ]
     },
     "execution_count": 2,
     "metadata": {},
     "output_type": "execute_result"
    }
   ],
   "source": [
    "# Load the environment variables from the .env file\n",
    "#by calling the load_dotenv function\n",
    "load_dotenv()"
   ]
  },
  {
   "cell_type": "markdown",
   "metadata": {},
   "source": [
    "## Part 1: Create a Financial Planner for Emergencies"
   ]
  },
  {
   "cell_type": "markdown",
   "metadata": {
    "tags": []
   },
   "source": [
    "### Evaluate the Cryptocurrency Wallet by Using the Requests Library\n",
    "\n",
    "In this section, you’ll determine the current value of a member’s cryptocurrency wallet. You’ll collect the current prices for the Bitcoin and Ethereum cryptocurrencies by using the Python Requests library. For the prototype, you’ll assume that the member holds the 1.2 Bitcoins (BTC) and 5.3 Ethereum coins (ETH). To do all this, complete the following steps:\n",
    "\n",
    "1. Create a variable named `monthly_income`, and set its value to `12000`.\n",
    "\n",
    "2. Use the Requests library to get the current price (in US dollars) of Bitcoin (BTC) and Ethereum (ETH) by using the API endpoints that the starter code supplies.\n",
    "\n",
    "3. Navigate the JSON response object to access the current price of each coin, and store each in a variable.\n",
    "\n",
    "    > **Hint** Note the specific identifier for each cryptocurrency in the API JSON response. The Bitcoin identifier is `1`, and the Ethereum identifier is `1027`.\n",
    "\n",
    "4. Calculate the value, in US dollars, of the current amount of each cryptocurrency and of the entire cryptocurrency wallet.\n",
    "\n"
   ]
  },
  {
   "cell_type": "code",
   "execution_count": 3,
   "metadata": {},
   "outputs": [],
   "source": [
    "# The current number of coins for each cryptocurrency asset held in the portfolio.\n",
    "btc_coins = 1.2\n",
    "eth_coins = 5.3"
   ]
  },
  {
   "cell_type": "markdown",
   "metadata": {},
   "source": [
    "#### Step 1: Create a variable named `monthly_income`, and set its value to `12000`."
   ]
  },
  {
   "cell_type": "code",
   "execution_count": 4,
   "metadata": {},
   "outputs": [],
   "source": [
    "# The monthly amount for the member's household income\n",
    "monthly_income = 12000\n"
   ]
  },
  {
   "cell_type": "markdown",
   "metadata": {},
   "source": [
    "#### Review the endpoint URLs for the API calls to Free Crypto API in order to get the current pricing information for both BTC and ETH."
   ]
  },
  {
   "cell_type": "code",
   "execution_count": 5,
   "metadata": {},
   "outputs": [],
   "source": [
    "# The Free Crypto API Call endpoint URLs for the held cryptocurrency assets\n",
    "btc_url = \"https://api.alternative.me/v2/ticker/Bitcoin/?convert=USD\"\n",
    "eth_url = \"https://api.alternative.me/v2/ticker/Ethereum/?convert=USD\""
   ]
  },
  {
   "cell_type": "markdown",
   "metadata": {},
   "source": [
    "#### Step 2. Use the Requests library to get the current price (in US dollars) of Bitcoin (BTC) and Ethereum (ETH) by using the API endpoints that the starter code supplied."
   ]
  },
  {
   "cell_type": "code",
   "execution_count": 6,
   "metadata": {},
   "outputs": [
    {
     "name": "stdout",
     "output_type": "stream",
     "text": [
      "{\n",
      "    \"data\": {\n",
      "        \"1\": {\n",
      "            \"circulating_supply\": 18938887,\n",
      "            \"id\": 1,\n",
      "            \"last_updated\": 1643052528,\n",
      "            \"max_supply\": 21000000,\n",
      "            \"name\": \"Bitcoin\",\n",
      "            \"quotes\": {\n",
      "                \"USD\": {\n",
      "                    \"market_cap\": 681942291531,\n",
      "                    \"percent_change_1h\": -0.556969804886591,\n",
      "                    \"percent_change_24h\": 1.72965665698875,\n",
      "                    \"percent_change_7d\": -16.8720535381086,\n",
      "                    \"percentage_change_1h\": -0.556969804886591,\n",
      "                    \"percentage_change_24h\": 1.72965665698875,\n",
      "                    \"percentage_change_7d\": -16.8720535381086,\n",
      "                    \"price\": 35845.0,\n",
      "                    \"volume_24h\": 35506395102\n",
      "                }\n",
      "            },\n",
      "            \"rank\": 1,\n",
      "            \"symbol\": \"BTC\",\n",
      "            \"total_supply\": 18938887,\n",
      "            \"website_slug\": \"bitcoin\"\n",
      "        }\n",
      "    },\n",
      "    \"metadata\": {\n",
      "        \"error\": null,\n",
      "        \"num_cryptocurrencies\": 3105,\n",
      "        \"timestamp\": 1643052528\n",
      "    }\n",
      "}\n"
     ]
    }
   ],
   "source": [
    "# Using the Python requests library, make an API call to access the current price of BTC\n",
    "btc_response = requests.get(btc_url).json()\n",
    "\n",
    "# Use the json.dumps function to review the response data from the API call\n",
    "# Use the indent and sort_keys parameters to make the response object readable\n",
    "print(json.dumps(btc_response, indent=4, sort_keys=True))\n"
   ]
  },
  {
   "cell_type": "code",
   "execution_count": 7,
   "metadata": {},
   "outputs": [
    {
     "name": "stdout",
     "output_type": "stream",
     "text": [
      "{\n",
      "    \"data\": {\n",
      "        \"1027\": {\n",
      "            \"circulating_supply\": 119295667,\n",
      "            \"id\": 1027,\n",
      "            \"last_updated\": 1643052556,\n",
      "            \"max_supply\": 0,\n",
      "            \"name\": \"Ethereum\",\n",
      "            \"quotes\": {\n",
      "                \"USD\": {\n",
      "                    \"market_cap\": 283849094262,\n",
      "                    \"percent_change_1h\": -0.542970667016624,\n",
      "                    \"percent_change_24h\": -2.71356569265413,\n",
      "                    \"percent_change_7d\": -29.4218230743401,\n",
      "                    \"percentage_change_1h\": -0.542970667016624,\n",
      "                    \"percentage_change_24h\": -2.71356569265413,\n",
      "                    \"percentage_change_7d\": -29.4218230743401,\n",
      "                    \"price\": 2368.81,\n",
      "                    \"volume_24h\": 27690086750\n",
      "                }\n",
      "            },\n",
      "            \"rank\": 2,\n",
      "            \"symbol\": \"ETH\",\n",
      "            \"total_supply\": 119295667,\n",
      "            \"website_slug\": \"ethereum\"\n",
      "        }\n",
      "    },\n",
      "    \"metadata\": {\n",
      "        \"error\": null,\n",
      "        \"num_cryptocurrencies\": 3105,\n",
      "        \"timestamp\": 1643052556\n",
      "    }\n",
      "}\n"
     ]
    }
   ],
   "source": [
    "# Using the Python requests library, make an API call to access the current price ETH\n",
    "eth_response = requests.get(eth_url).json()\n",
    "\n",
    "# Use the json.dumps function to review the response data from the API call\n",
    "# Use the indent and sort_keys parameters to make the response object readable\n",
    "print(json.dumps(eth_response, indent=4, sort_keys=True))\n"
   ]
  },
  {
   "cell_type": "markdown",
   "metadata": {},
   "source": [
    "#### Step 3: Navigate the JSON response object to access the current price of each coin, and store each in a variable."
   ]
  },
  {
   "cell_type": "code",
   "execution_count": 8,
   "metadata": {},
   "outputs": [
    {
     "name": "stdout",
     "output_type": "stream",
     "text": [
      "35845.0\n"
     ]
    }
   ],
   "source": [
    "# Navigate the BTC response object to access the current price of BTC\n",
    "btc_price = btc_response[\"data\"][\"1\"][\"quotes\"][\"USD\"][\"price\"]\n",
    "\n",
    "# Print the current price of BTC\n",
    "print(btc_price)\n"
   ]
  },
  {
   "cell_type": "code",
   "execution_count": 9,
   "metadata": {},
   "outputs": [
    {
     "name": "stdout",
     "output_type": "stream",
     "text": [
      "2368.81\n"
     ]
    }
   ],
   "source": [
    "# Navigate the BTC response object to access the current price of ETH\n",
    "eth_price = eth_response[\"data\"][\"1027\"][\"quotes\"][\"USD\"][\"price\"]\n",
    "\n",
    "# Print the current price of ETH\n",
    "print(eth_price)\n"
   ]
  },
  {
   "cell_type": "markdown",
   "metadata": {},
   "source": [
    "### Step 4: Calculate the value, in US dollars, of the current amount of each cryptocurrency and of the entire cryptocurrency wallet."
   ]
  },
  {
   "cell_type": "code",
   "execution_count": 10,
   "metadata": {},
   "outputs": [
    {
     "name": "stdout",
     "output_type": "stream",
     "text": [
      "43014.0\n"
     ]
    }
   ],
   "source": [
    "# Compute the current value of the BTC holding \n",
    "btc_value = btc_price * btc_coins\n",
    "\n",
    "# Print current value of your holding in BTC\n",
    "print(btc_value)\n"
   ]
  },
  {
   "cell_type": "code",
   "execution_count": 11,
   "metadata": {},
   "outputs": [
    {
     "name": "stdout",
     "output_type": "stream",
     "text": [
      "12554.693\n"
     ]
    }
   ],
   "source": [
    "# Compute the current value of the ETH holding \n",
    "eth_value = eth_price * eth_coins\n",
    "\n",
    "# Print current value of your holding in ETH\n",
    "print(eth_value)\n"
   ]
  },
  {
   "cell_type": "code",
   "execution_count": 12,
   "metadata": {},
   "outputs": [
    {
     "name": "stdout",
     "output_type": "stream",
     "text": [
      "55568.693\n"
     ]
    }
   ],
   "source": [
    "# Compute the total value of the cryptocurrency wallet\n",
    "# Add the value of the BTC holding to the value of the ETH holding\n",
    "total_crypto_wallet = btc_value + eth_value\n",
    "\n",
    "# Print current cryptocurrency wallet balance\n",
    "print(total_crypto_wallet)\n"
   ]
  },
  {
   "cell_type": "markdown",
   "metadata": {},
   "source": [
    "### Evaluate the Stock and Bond Holdings by Using the Alpaca SDK\n",
    "\n",
    "In this section, you’ll determine the current value of a member’s stock and bond holdings. You’ll make an API call to Alpaca via the Alpaca SDK to get the current closing prices of the SPDR S&P 500 ETF Trust (ticker: SPY) and of the iShares Core US Aggregate Bond ETF (ticker: AGG). For the prototype, assume that the member holds 110 shares of SPY, which represents the stock portion of their portfolio, and 200 shares of AGG, which represents the bond portion. To do all this, complete the following steps:\n",
    "\n",
    "1. In the `Starter_Code` folder, create an environment file (`.env`) to store the values of your Alpaca API key and Alpaca secret key.\n",
    "\n",
    "2. Set the variables for the Alpaca API and secret keys. Using the Alpaca SDK, create the Alpaca `tradeapi.REST` object. In this object, include the parameters for the Alpaca API key, the secret key, and the version number.\n",
    "\n",
    "3. Set the following parameters for the Alpaca API call:\n",
    "\n",
    "    - `tickers`: Use the tickers for the member’s stock and bond holdings.\n",
    "\n",
    "    - `timeframe`: Use a time frame of one day.\n",
    "\n",
    "    - `start_date` and `end_date`: Use the same date for these parameters, and format them with the date of the previous weekday (or `2020-08-07`). This is because you want the one closing price for the most-recent trading day.\n",
    "\n",
    "4. Get the current closing prices for `SPY` and `AGG` by using the Alpaca `get_barset` function. Format the response as a Pandas DataFrame by including the `df` property at the end of the `get_barset` function.\n",
    "\n",
    "5. Navigating the Alpaca response DataFrame, select the `SPY` and `AGG` closing prices, and store them as variables.\n",
    "\n",
    "6. Calculate the value, in US dollars, of the current amount of shares in each of the stock and bond portions of the portfolio, and print the results.\n"
   ]
  },
  {
   "cell_type": "markdown",
   "metadata": {},
   "source": [
    "#### Review the total number of shares held in both (SPY) and (AGG)."
   ]
  },
  {
   "cell_type": "code",
   "execution_count": 13,
   "metadata": {},
   "outputs": [],
   "source": [
    "# Current amount of shares held in both the stock (SPY) and bond (AGG) portion of the portfolio.\n",
    "spy_shares = 110\n",
    "agg_shares = 200\n"
   ]
  },
  {
   "cell_type": "markdown",
   "metadata": {},
   "source": [
    "#### Step 1: In the `Starter_Code` folder, create an environment file (`.env`) to store the values of your Alpaca API key and Alpaca secret key."
   ]
  },
  {
   "cell_type": "markdown",
   "metadata": {},
   "source": [
    "#### Step 2: Set the variables for the Alpaca API and secret keys. Using the Alpaca SDK, create the Alpaca `tradeapi.REST` object. In this object, include the parameters for the Alpaca API key, the secret key, and the version number."
   ]
  },
  {
   "cell_type": "code",
   "execution_count": 14,
   "metadata": {},
   "outputs": [],
   "source": [
    "# Set the variables for the Alpaca API and secret keys\n",
    "alpaca_api_key = os.getenv(\"ALPACA_API_KEY\")\n",
    "alpaca_secret_key = os.getenv(\"ALPACA_SECRET_KEY\")\n",
    "\n",
    "# Create the Alpaca tradeapi.REST object\n",
    "a_api = tradeapi.REST(alpaca_api_key, alpaca_secret_key, api_version=\"v2\")"
   ]
  },
  {
   "cell_type": "markdown",
   "metadata": {},
   "source": [
    "#### Step 3: Set the following parameters for the Alpaca API call:\n",
    "\n",
    "- `tickers`: Use the tickers for the member’s stock and bond holdings.\n",
    "\n",
    "- `timeframe`: Use a time frame of one day.\n",
    "\n",
    "- `start_date` and `end_date`: Use the same date for these parameters, and format them with the date of the previous weekday (or `2020-08-07`). This is because you want the one closing price for the most-recent trading day.\n"
   ]
  },
  {
   "cell_type": "code",
   "execution_count": 21,
   "metadata": {},
   "outputs": [],
   "source": [
    "# Set the tickers for both the bond and stock portion of the portfolio\n",
    "tickers = [\"SPY\", \"AGG\"]\n",
    "\n",
    "# Set timeframe to 1D \n",
    "timeframe = \"1D\"\n",
    "\n",
    "# Format current date as ISO format\n",
    "# Set both the start and end date at the date of your prior weekday \n",
    "# This will give you the closing price of the previous trading day\n",
    "# Alternatively you can use a start and end date of 2020-08-07\n",
    "start_date = pd.Timestamp(\"2022-01-21\", tz=\"America/New_York\").isoformat()\n",
    "end_date = pd.Timestamp(\"2022-01-21\", tz=\"America/New_York\").isoformat()"
   ]
  },
  {
   "cell_type": "markdown",
   "metadata": {},
   "source": [
    "#### Step 4: Get the current closing prices for `SPY` and `AGG` by using the Alpaca `get_barset` function. Format the response as a Pandas DataFrame by including the `df` property at the end of the `get_barset` function."
   ]
  },
  {
   "cell_type": "code",
   "execution_count": 31,
   "metadata": {},
   "outputs": [
    {
     "data": {
      "text/html": [
       "<div>\n",
       "<style scoped>\n",
       "    .dataframe tbody tr th:only-of-type {\n",
       "        vertical-align: middle;\n",
       "    }\n",
       "\n",
       "    .dataframe tbody tr th {\n",
       "        vertical-align: top;\n",
       "    }\n",
       "\n",
       "    .dataframe thead tr th {\n",
       "        text-align: left;\n",
       "    }\n",
       "\n",
       "    .dataframe thead tr:last-of-type th {\n",
       "        text-align: right;\n",
       "    }\n",
       "</style>\n",
       "<table border=\"1\" class=\"dataframe\">\n",
       "  <thead>\n",
       "    <tr>\n",
       "      <th></th>\n",
       "      <th colspan=\"5\" halign=\"left\">AGG</th>\n",
       "      <th colspan=\"5\" halign=\"left\">SPY</th>\n",
       "    </tr>\n",
       "    <tr>\n",
       "      <th></th>\n",
       "      <th>open</th>\n",
       "      <th>high</th>\n",
       "      <th>low</th>\n",
       "      <th>close</th>\n",
       "      <th>volume</th>\n",
       "      <th>open</th>\n",
       "      <th>high</th>\n",
       "      <th>low</th>\n",
       "      <th>close</th>\n",
       "      <th>volume</th>\n",
       "    </tr>\n",
       "    <tr>\n",
       "      <th>time</th>\n",
       "      <th></th>\n",
       "      <th></th>\n",
       "      <th></th>\n",
       "      <th></th>\n",
       "      <th></th>\n",
       "      <th></th>\n",
       "      <th></th>\n",
       "      <th></th>\n",
       "      <th></th>\n",
       "      <th></th>\n",
       "    </tr>\n",
       "  </thead>\n",
       "  <tbody>\n",
       "    <tr>\n",
       "      <th>2022-01-21 00:00:00-05:00</th>\n",
       "      <td>112.19</td>\n",
       "      <td>112.35</td>\n",
       "      <td>112.11</td>\n",
       "      <td>112.24</td>\n",
       "      <td>7789076</td>\n",
       "      <td>445.56</td>\n",
       "      <td>448.06</td>\n",
       "      <td>437.97</td>\n",
       "      <td>438.11</td>\n",
       "      <td>174541931</td>\n",
       "    </tr>\n",
       "  </tbody>\n",
       "</table>\n",
       "</div>"
      ],
      "text/plain": [
       "                              AGG                                      SPY  \\\n",
       "                             open    high     low   close   volume    open   \n",
       "time                                                                         \n",
       "2022-01-21 00:00:00-05:00  112.19  112.35  112.11  112.24  7789076  445.56   \n",
       "\n",
       "                                                              \n",
       "                             high     low   close     volume  \n",
       "time                                                          \n",
       "2022-01-21 00:00:00-05:00  448.06  437.97  438.11  174541931  "
      ]
     },
     "execution_count": 31,
     "metadata": {},
     "output_type": "execute_result"
    }
   ],
   "source": [
    "# Use the Alpaca get_barset function to get current closing prices the portfolio\n",
    "# Be sure to set the `df` property after the function to format the response object as a DataFrame\n",
    "close_prices_df = a_api.get_barset(tickers, timeframe, start=start_date, end=end_date).df\n",
    "\n",
    "# Review the first 5 rows of the Alpaca DataFrame\n",
    "close_prices_df.head(5)\n"
   ]
  },
  {
   "cell_type": "markdown",
   "metadata": {},
   "source": [
    "#### Step 5: Navigating the Alpaca response DataFrame, select the `SPY` and `AGG` closing prices, and store them as variables."
   ]
  },
  {
   "cell_type": "code",
   "execution_count": 33,
   "metadata": {},
   "outputs": [
    {
     "name": "stdout",
     "output_type": "stream",
     "text": [
      "time\n",
      "2022-01-21 00:00:00-05:00    112.24\n",
      "Name: close, dtype: float64\n"
     ]
    }
   ],
   "source": [
    "# Access the closing price for AGG from the Alpaca DataFrame\n",
    "# Converting the value to a floating point number\n",
    "agg_close_price = close_prices_df[\"AGG\"][\"close\"]\n",
    "\n",
    "# Print the AGG closing price\n",
    "print(agg_close_price)\n"
   ]
  },
  {
   "cell_type": "code",
   "execution_count": 24,
   "metadata": {},
   "outputs": [
    {
     "name": "stdout",
     "output_type": "stream",
     "text": [
      "time\n",
      "2022-01-21 00:00:00-05:00    438.11\n",
      "Name: close, dtype: float64\n"
     ]
    }
   ],
   "source": [
    "# Access the closing price for SPY from the Alpaca DataFrame\n",
    "# Converting the value to a floating point number\n",
    "spy_close_price = close_prices_df[\"SPY\"][\"close\"]\n",
    "\n",
    "# Print the SPY closing price\n",
    "print(spy_close_price)\n"
   ]
  },
  {
   "cell_type": "markdown",
   "metadata": {},
   "source": [
    "#### Step 6: Calculate the value, in US dollars, of the current amount of shares in each of the stock and bond portions of the portfolio, and print the results."
   ]
  },
  {
   "cell_type": "code",
   "execution_count": 50,
   "metadata": {},
   "outputs": [
    {
     "name": "stdout",
     "output_type": "stream",
     "text": [
      "22448.0\n"
     ]
    }
   ],
   "source": [
    "# Calculate the current value of the bond portion of the portfolio\n",
    "agg_value = agg_close_price * agg_shares\n",
    "agg_value = agg_value.iloc[0]\n",
    "# Print the current value of the bond portfolio\n",
    "print(agg_value)\n"
   ]
  },
  {
   "cell_type": "code",
   "execution_count": 51,
   "metadata": {},
   "outputs": [
    {
     "name": "stdout",
     "output_type": "stream",
     "text": [
      "48192.1\n"
     ]
    }
   ],
   "source": [
    "# Calculate the current value of the stock portion of the portfolio\n",
    "spy_value = spy_close_price * spy_shares\n",
    "spy_value = spy_value.iloc[0]\n",
    "# Print the current value of the stock portfolio\n",
    "print(spy_value)\n"
   ]
  },
  {
   "cell_type": "code",
   "execution_count": 52,
   "metadata": {},
   "outputs": [
    {
     "name": "stdout",
     "output_type": "stream",
     "text": [
      "70640.1\n"
     ]
    }
   ],
   "source": [
    "# Calculate the total value of the stock and bond portion of the portfolio\n",
    "total_stocks_bonds = agg_value + spy_value\n",
    "\n",
    "# Print the current balance of the stock and bond portion of the portfolio\n",
    "print(total_stocks_bonds)\n"
   ]
  },
  {
   "cell_type": "code",
   "execution_count": 53,
   "metadata": {},
   "outputs": [
    {
     "name": "stdout",
     "output_type": "stream",
     "text": [
      "126208.793\n"
     ]
    }
   ],
   "source": [
    "# Calculate the total value of the member's entire savings portfolio\n",
    "# Add the value of the cryptocurrency walled to the value of the total stocks and bonds\n",
    "total_portfolio = total_stocks_bonds + total_crypto_wallet\n",
    "\n",
    "# Print current cryptocurrency wallet balance\n",
    "print(total_portfolio)\n"
   ]
  },
  {
   "cell_type": "markdown",
   "metadata": {},
   "source": [
    "### Evaluate the Emergency Fund\n",
    "\n",
    "In this section, you’ll use the valuations for the cryptocurrency wallet and for the stock and bond portions of the portfolio to determine if the credit union member has enough savings to build an emergency fund into their financial plan. To do this, complete the following steps:\n",
    "\n",
    "1. Create a Python list named `savings_data` that has two elements. The first element contains the total value of the cryptocurrency wallet. The second element contains the total value of the stock and bond portions of the portfolio.\n",
    "\n",
    "2. Use the `savings_data` list to create a Pandas DataFrame named `savings_df`, and then display this DataFrame. The function to create the DataFrame should take the following three parameters:\n",
    "\n",
    "    - `savings_data`: Use the list that you just created.\n",
    "\n",
    "    - `columns`: Set this parameter equal to a Python list with a single value called `amount`.\n",
    "\n",
    "    - `index`: Set this parameter equal to a Python list with the values of `crypto` and `stock/bond`.\n",
    "\n",
    "3. Use the `savings_df` DataFrame to plot a pie chart that visualizes the composition of the member’s portfolio. The y-axis of the pie chart uses `amount`. Be sure to add a title.\n",
    "\n",
    "4. Using Python, determine if the current portfolio has enough to create an emergency fund as part of the member’s financial plan. Ideally, an emergency fund should equal to three times the member’s monthly income. To do this, implement the following steps:\n",
    "\n",
    "    1. Create a variable named `emergency_fund_value`, and set it equal to three times the value of the member’s `monthly_income` of $12000. (You set this earlier in Part 1).\n",
    "\n",
    "    2. Create a series of three if statements to determine if the member’s total portfolio is large enough to fund the emergency portfolio:\n",
    "\n",
    "        1. If the total portfolio value is greater than the emergency fund value, display a message congratulating the member for having enough money in this fund.\n",
    "\n",
    "        2. Else if the total portfolio value is equal to the emergency fund value, display a message congratulating the member on reaching this important financial goal.\n",
    "\n",
    "        3. Else the total portfolio is less than the emergency fund value, so display a message showing how many dollars away the member is from reaching the goal. (Subtract the total portfolio value from the emergency fund value.)\n"
   ]
  },
  {
   "cell_type": "markdown",
   "metadata": {},
   "source": [
    "#### Step 1: Create a Python list named `savings_data` that has two elements. The first element contains the total value of the cryptocurrency wallet. The second element contains the total value of the stock and bond portions of the portfolio."
   ]
  },
  {
   "cell_type": "code",
   "execution_count": 55,
   "metadata": {},
   "outputs": [
    {
     "name": "stdout",
     "output_type": "stream",
     "text": [
      "[70640.1, 55568.693]\n"
     ]
    }
   ],
   "source": [
    "# Consolidate financial assets data into a Python list\n",
    "savings_data = [total_stocks_bonds, total_crypto_wallet]\n",
    "\n",
    "# Review the Python list savings_data\n",
    "print(savings_data)\n",
    "    "
   ]
  },
  {
   "cell_type": "markdown",
   "metadata": {},
   "source": [
    "#### Step 2: Use the `savings_data` list to create a Pandas DataFrame named `savings_df`, and then display this DataFrame. The function to create the DataFrame should take the following three parameters:\n",
    "\n",
    "- `savings_data`: Use the list that you just created.\n",
    "\n",
    "- `columns`: Set this parameter equal to a Python list with a single value called `amount`.\n",
    "\n",
    "- `index`: Set this parameter equal to a Python list with the values of `crypto` and `stock/bond`.\n"
   ]
  },
  {
   "cell_type": "code",
   "execution_count": 57,
   "metadata": {},
   "outputs": [
    {
     "data": {
      "text/html": [
       "<div>\n",
       "<style scoped>\n",
       "    .dataframe tbody tr th:only-of-type {\n",
       "        vertical-align: middle;\n",
       "    }\n",
       "\n",
       "    .dataframe tbody tr th {\n",
       "        vertical-align: top;\n",
       "    }\n",
       "\n",
       "    .dataframe thead th {\n",
       "        text-align: right;\n",
       "    }\n",
       "</style>\n",
       "<table border=\"1\" class=\"dataframe\">\n",
       "  <thead>\n",
       "    <tr style=\"text-align: right;\">\n",
       "      <th></th>\n",
       "      <th>amount</th>\n",
       "    </tr>\n",
       "  </thead>\n",
       "  <tbody>\n",
       "    <tr>\n",
       "      <th>stock/bond</th>\n",
       "      <td>70640.100</td>\n",
       "    </tr>\n",
       "    <tr>\n",
       "      <th>crypto</th>\n",
       "      <td>55568.693</td>\n",
       "    </tr>\n",
       "  </tbody>\n",
       "</table>\n",
       "</div>"
      ],
      "text/plain": [
       "               amount\n",
       "stock/bond  70640.100\n",
       "crypto      55568.693"
      ]
     },
     "execution_count": 57,
     "metadata": {},
     "output_type": "execute_result"
    }
   ],
   "source": [
    "# Create a Pandas DataFrame called savings_df \n",
    "savings_df = pd.DataFrame(data=savings_data,columns=['amount'], index=['stock/bond', 'crypto'])\n",
    "\n",
    "# Display the savings_df DataFrame\n",
    "savings_df\n"
   ]
  },
  {
   "cell_type": "markdown",
   "metadata": {},
   "source": [
    "#### Step 3: Use the `savings_df` DataFrame to plot a pie chart that visualizes the composition of the member’s portfolio. The y-axis of the pie chart uses `amount`. Be sure to add a title."
   ]
  },
  {
   "cell_type": "code",
   "execution_count": 66,
   "metadata": {},
   "outputs": [
    {
     "data": {
      "image/png": "[encoded data removed]",
      "text/plain": [
       "<Figure size 432x288 with 1 Axes>"
      ]
     },
     "metadata": {},
     "output_type": "display_data"
    }
   ],
   "source": [
    "# Plot the total value of the member's portfolio (crypto and stock/bond) in a pie chart\n",
    "portfolio_pie = savings_df.plot.pie(title='Portfolio Composition',legend=False, y='amount')\n"
   ]
  },
  {
   "cell_type": "markdown",
   "metadata": {},
   "source": [
    "#### Step 4: Using Python, determine if the current portfolio has enough to create an emergency fund as part of the member’s financial plan. Ideally, an emergency fund should equal to three times the member’s monthly income. To do this, implement the following steps:\n",
    "\n",
    "Step 1. Create a variable named `emergency_fund_value`, and set it equal to three times the value of the member’s `monthly_income` of 12000. (You set this earlier in Part 1).\n",
    "\n",
    "Step 2. Create a series of three if statements to determine if the member’s total portfolio is large enough to fund the emergency portfolio:\n",
    "\n",
    "* If the total portfolio value is greater than the emergency fund value, display a message congratulating the member for having enough money in this fund.\n",
    "\n",
    "* Else if the total portfolio value is equal to the emergency fund value, display a message congratulating the member on reaching this important financial goal.\n",
    "\n",
    "* Else the total portfolio is less than the emergency fund value, so display a message showing how many dollars away the member is from reaching the goal. (Subtract the total portfolio value from the emergency fund value.)\n"
   ]
  },
  {
   "cell_type": "markdown",
   "metadata": {},
   "source": [
    "##### Step 4-1: Create a variable named `emergency_fund_value`, and set it equal to three times the value of the member’s `monthly_income` of 12000. (You set this earlier in Part 1)."
   ]
  },
  {
   "cell_type": "code",
   "execution_count": 68,
   "metadata": {},
   "outputs": [
    {
     "name": "stdout",
     "output_type": "stream",
     "text": [
      "36000\n"
     ]
    }
   ],
   "source": [
    "# Create a variable named emergency_fund_value\n",
    "emergency_fund_value = monthly_income * 3\n",
    "print(emergency_fund_value)"
   ]
  },
  {
   "cell_type": "markdown",
   "metadata": {},
   "source": [
    "##### Step 4-2: Create a series of three if statements to determine if the member’s total portfolio is large enough to fund the emergency portfolio:\n",
    "\n",
    "* If the total portfolio value is greater than the emergency fund value, display a message congratulating the member for having enough money in this fund.\n",
    "\n",
    "* Else if the total portfolio value is equal to the emergency fund value, display a message congratulating the member on reaching this important financial goal.\n",
    "\n",
    "* Else the total portfolio is less than the emergency fund value, so display a message showing how many dollars away the member is from reaching the goal. (Subtract the total portfolio value from the emergency fund value.)"
   ]
  },
  {
   "cell_type": "code",
   "execution_count": 71,
   "metadata": {},
   "outputs": [
    {
     "name": "stdout",
     "output_type": "stream",
     "text": [
      "You can create an emergency fund!\n"
     ]
    }
   ],
   "source": [
    "# Evaluate the possibility of creating an emergency fund with 3 conditions:\n",
    "if total_portfolio > emergency_fund_value :\n",
    "    print(f\"You can create an emergency fund!\")\n",
    "elif total_portfolio == emergency_fund_value :\n",
    "    print(f\"Congrats, you have managed to reach your Emergency Fund goal!\")\n",
    "else:\n",
    "    print(f\"You still need ${total_portfolio-emergency_fund_value} to reach your Emergency Fund goal\")\n"
   ]
  },
  {
   "cell_type": "markdown",
   "metadata": {},
   "source": [
    "## Part 2: Create a Financial Planner for Retirement"
   ]
  },
  {
   "cell_type": "markdown",
   "metadata": {},
   "source": [
    "### Create the Monte Carlo Simulation\n",
    "\n",
    "In this section, you’ll use the MCForecastTools library to create a Monte Carlo simulation for the member’s savings portfolio. To do this, complete the following steps:\n",
    "\n",
    "1. Make an API call via the Alpaca SDK to get 3 years of historical closing prices for a traditional 60/40 portfolio split: 60% stocks (SPY) and 40% bonds (AGG).\n",
    "\n",
    "2. Run a Monte Carlo simulation of 500 samples and 30 years for the 60/40 portfolio, and then plot the results.The following image shows the overlay line plot resulting from a simulation with these characteristics. However, because a random number generator is used to run each live Monte Carlo simulation, your image will differ slightly from this exact image:\n",
    "\n",
    "![A screenshot depicts the resulting plot.](Images/5-4-monte-carlo-line-plot.png)\n",
    "\n",
    "3. Plot the probability distribution of the Monte Carlo simulation. Plot the probability distribution of the Monte Carlo simulation. The following image shows the histogram plot resulting from a simulation with these characteristics. However, because a random number generator is used to run each live Monte Carlo simulation, your image will differ slightly from this exact image:\n",
    "\n",
    "![A screenshot depicts the histogram plot.](Images/5-4-monte-carlo-histogram.png)\n",
    "\n",
    "4. Generate the summary statistics for the Monte Carlo simulation.\n",
    "\n"
   ]
  },
  {
   "cell_type": "markdown",
   "metadata": {},
   "source": [
    "#### Step 1: Make an API call via the Alpaca SDK to get 3 years of historical closing prices for a traditional 60/40 portfolio split: 60% stocks (SPY) and 40% bonds (AGG)."
   ]
  },
  {
   "cell_type": "code",
   "execution_count": 95,
   "metadata": {},
   "outputs": [
    {
     "name": "stdout",
     "output_type": "stream",
     "text": [
      "Start Date 2019-01-21T00:00:00-05:00 - End Date 2022-01-21T00:00:00-05:00\n"
     ]
    }
   ],
   "source": [
    "# Set start and end dates of 3 years back from your current date\n",
    "# Alternatively, you can use an end date of 2020-08-07 and work 3 years back from that date \n",
    "end_date_mc = pd.Timestamp(\"2022-01-21\", tz=\"America/New_York\")\n",
    "start_date_mc = end_date_mc - pd.DateOffset(years=3)\n",
    "end_date_mc_iso = end_date_mc.isoformat()\n",
    "start_date_mc_iso = start_date_mc.isoformat()\n",
    "\n",
    "# Set number of rows to 1000 to retrieve the maximum amount of rows\n",
    "limit_rows=1000\n",
    "print(f\"Start Date {start_date_mc_iso} - End Date {end_date_mc_iso}\")"
   ]
  },
  {
   "cell_type": "code",
   "execution_count": 97,
   "metadata": {},
   "outputs": [
    {
     "data": {
      "text/html": [
       "<div>\n",
       "<style scoped>\n",
       "    .dataframe tbody tr th:only-of-type {\n",
       "        vertical-align: middle;\n",
       "    }\n",
       "\n",
       "    .dataframe tbody tr th {\n",
       "        vertical-align: top;\n",
       "    }\n",
       "\n",
       "    .dataframe thead tr th {\n",
       "        text-align: left;\n",
       "    }\n",
       "\n",
       "    .dataframe thead tr:last-of-type th {\n",
       "        text-align: right;\n",
       "    }\n",
       "</style>\n",
       "<table border=\"1\" class=\"dataframe\">\n",
       "  <thead>\n",
       "    <tr>\n",
       "      <th></th>\n",
       "      <th colspan=\"5\" halign=\"left\">AGG</th>\n",
       "      <th colspan=\"5\" halign=\"left\">SPY</th>\n",
       "    </tr>\n",
       "    <tr>\n",
       "      <th></th>\n",
       "      <th>open</th>\n",
       "      <th>high</th>\n",
       "      <th>low</th>\n",
       "      <th>close</th>\n",
       "      <th>volume</th>\n",
       "      <th>open</th>\n",
       "      <th>high</th>\n",
       "      <th>low</th>\n",
       "      <th>close</th>\n",
       "      <th>volume</th>\n",
       "    </tr>\n",
       "    <tr>\n",
       "      <th>time</th>\n",
       "      <th></th>\n",
       "      <th></th>\n",
       "      <th></th>\n",
       "      <th></th>\n",
       "      <th></th>\n",
       "      <th></th>\n",
       "      <th></th>\n",
       "      <th></th>\n",
       "      <th></th>\n",
       "      <th></th>\n",
       "    </tr>\n",
       "  </thead>\n",
       "  <tbody>\n",
       "    <tr>\n",
       "      <th>2019-01-22 00:00:00-05:00</th>\n",
       "      <td>106.44</td>\n",
       "      <td>108.510</td>\n",
       "      <td>106.44</td>\n",
       "      <td>106.455</td>\n",
       "      <td>6646771.0</td>\n",
       "      <td>264.82</td>\n",
       "      <td>265.0600</td>\n",
       "      <td>261.0600</td>\n",
       "      <td>261.970</td>\n",
       "      <td>88775864</td>\n",
       "    </tr>\n",
       "    <tr>\n",
       "      <th>2019-01-23 00:00:00-05:00</th>\n",
       "      <td>106.38</td>\n",
       "      <td>106.590</td>\n",
       "      <td>106.37</td>\n",
       "      <td>106.530</td>\n",
       "      <td>2934313.0</td>\n",
       "      <td>264.01</td>\n",
       "      <td>264.7900</td>\n",
       "      <td>260.6600</td>\n",
       "      <td>263.100</td>\n",
       "      <td>74195206</td>\n",
       "    </tr>\n",
       "    <tr>\n",
       "      <th>2019-01-24 00:00:00-05:00</th>\n",
       "      <td>106.72</td>\n",
       "      <td>106.840</td>\n",
       "      <td>106.67</td>\n",
       "      <td>106.730</td>\n",
       "      <td>6586980.0</td>\n",
       "      <td>263.21</td>\n",
       "      <td>264.2000</td>\n",
       "      <td>262.0800</td>\n",
       "      <td>263.690</td>\n",
       "      <td>48407752</td>\n",
       "    </tr>\n",
       "    <tr>\n",
       "      <th>2019-01-25 00:00:00-05:00</th>\n",
       "      <td>106.64</td>\n",
       "      <td>106.700</td>\n",
       "      <td>106.56</td>\n",
       "      <td>106.675</td>\n",
       "      <td>3157633.0</td>\n",
       "      <td>265.61</td>\n",
       "      <td>266.7000</td>\n",
       "      <td>263.6595</td>\n",
       "      <td>265.700</td>\n",
       "      <td>78094541</td>\n",
       "    </tr>\n",
       "    <tr>\n",
       "      <th>2019-01-28 00:00:00-05:00</th>\n",
       "      <td>106.62</td>\n",
       "      <td>106.745</td>\n",
       "      <td>106.58</td>\n",
       "      <td>106.655</td>\n",
       "      <td>6372589.0</td>\n",
       "      <td>263.39</td>\n",
       "      <td>263.8200</td>\n",
       "      <td>261.7900</td>\n",
       "      <td>263.635</td>\n",
       "      <td>75207990</td>\n",
       "    </tr>\n",
       "    <tr>\n",
       "      <th>...</th>\n",
       "      <td>...</td>\n",
       "      <td>...</td>\n",
       "      <td>...</td>\n",
       "      <td>...</td>\n",
       "      <td>...</td>\n",
       "      <td>...</td>\n",
       "      <td>...</td>\n",
       "      <td>...</td>\n",
       "      <td>...</td>\n",
       "      <td>...</td>\n",
       "    </tr>\n",
       "    <tr>\n",
       "      <th>2022-01-14 00:00:00-05:00</th>\n",
       "      <td>112.53</td>\n",
       "      <td>112.545</td>\n",
       "      <td>112.15</td>\n",
       "      <td>112.170</td>\n",
       "      <td>8362916.0</td>\n",
       "      <td>461.19</td>\n",
       "      <td>465.0900</td>\n",
       "      <td>459.9000</td>\n",
       "      <td>464.680</td>\n",
       "      <td>84363989</td>\n",
       "    </tr>\n",
       "    <tr>\n",
       "      <th>2022-01-18 00:00:00-05:00</th>\n",
       "      <td>111.81</td>\n",
       "      <td>111.860</td>\n",
       "      <td>111.47</td>\n",
       "      <td>111.490</td>\n",
       "      <td>7390142.0</td>\n",
       "      <td>459.73</td>\n",
       "      <td>459.9600</td>\n",
       "      <td>455.3100</td>\n",
       "      <td>456.530</td>\n",
       "      <td>95565773</td>\n",
       "    </tr>\n",
       "    <tr>\n",
       "      <th>2022-01-19 00:00:00-05:00</th>\n",
       "      <td>111.70</td>\n",
       "      <td>111.890</td>\n",
       "      <td>111.65</td>\n",
       "      <td>111.710</td>\n",
       "      <td>7641972.0</td>\n",
       "      <td>458.17</td>\n",
       "      <td>459.6124</td>\n",
       "      <td>451.4600</td>\n",
       "      <td>451.790</td>\n",
       "      <td>95311817</td>\n",
       "    </tr>\n",
       "    <tr>\n",
       "      <th>2022-01-20 00:00:00-05:00</th>\n",
       "      <td>111.84</td>\n",
       "      <td>111.900</td>\n",
       "      <td>111.75</td>\n",
       "      <td>111.790</td>\n",
       "      <td>6861797.0</td>\n",
       "      <td>453.75</td>\n",
       "      <td>458.7400</td>\n",
       "      <td>444.5000</td>\n",
       "      <td>446.790</td>\n",
       "      <td>105009751</td>\n",
       "    </tr>\n",
       "    <tr>\n",
       "      <th>2022-01-21 00:00:00-05:00</th>\n",
       "      <td>112.19</td>\n",
       "      <td>112.350</td>\n",
       "      <td>112.11</td>\n",
       "      <td>112.240</td>\n",
       "      <td>7792653.0</td>\n",
       "      <td>445.56</td>\n",
       "      <td>448.0600</td>\n",
       "      <td>437.9700</td>\n",
       "      <td>438.110</td>\n",
       "      <td>174541929</td>\n",
       "    </tr>\n",
       "  </tbody>\n",
       "</table>\n",
       "<p>758 rows × 10 columns</p>\n",
       "</div>"
      ],
      "text/plain": [
       "                              AGG                                       \\\n",
       "                             open     high     low    close     volume   \n",
       "time                                                                     \n",
       "2019-01-22 00:00:00-05:00  106.44  108.510  106.44  106.455  6646771.0   \n",
       "2019-01-23 00:00:00-05:00  106.38  106.590  106.37  106.530  2934313.0   \n",
       "2019-01-24 00:00:00-05:00  106.72  106.840  106.67  106.730  6586980.0   \n",
       "2019-01-25 00:00:00-05:00  106.64  106.700  106.56  106.675  3157633.0   \n",
       "2019-01-28 00:00:00-05:00  106.62  106.745  106.58  106.655  6372589.0   \n",
       "...                           ...      ...     ...      ...        ...   \n",
       "2022-01-14 00:00:00-05:00  112.53  112.545  112.15  112.170  8362916.0   \n",
       "2022-01-18 00:00:00-05:00  111.81  111.860  111.47  111.490  7390142.0   \n",
       "2022-01-19 00:00:00-05:00  111.70  111.890  111.65  111.710  7641972.0   \n",
       "2022-01-20 00:00:00-05:00  111.84  111.900  111.75  111.790  6861797.0   \n",
       "2022-01-21 00:00:00-05:00  112.19  112.350  112.11  112.240  7792653.0   \n",
       "\n",
       "                              SPY                                          \n",
       "                             open      high       low    close     volume  \n",
       "time                                                                       \n",
       "2019-01-22 00:00:00-05:00  264.82  265.0600  261.0600  261.970   88775864  \n",
       "2019-01-23 00:00:00-05:00  264.01  264.7900  260.6600  263.100   74195206  \n",
       "2019-01-24 00:00:00-05:00  263.21  264.2000  262.0800  263.690   48407752  \n",
       "2019-01-25 00:00:00-05:00  265.61  266.7000  263.6595  265.700   78094541  \n",
       "2019-01-28 00:00:00-05:00  263.39  263.8200  261.7900  263.635   75207990  \n",
       "...                           ...       ...       ...      ...        ...  \n",
       "2022-01-14 00:00:00-05:00  461.19  465.0900  459.9000  464.680   84363989  \n",
       "2022-01-18 00:00:00-05:00  459.73  459.9600  455.3100  456.530   95565773  \n",
       "2022-01-19 00:00:00-05:00  458.17  459.6124  451.4600  451.790   95311817  \n",
       "2022-01-20 00:00:00-05:00  453.75  458.7400  444.5000  446.790  105009751  \n",
       "2022-01-21 00:00:00-05:00  445.56  448.0600  437.9700  438.110  174541929  \n",
       "\n",
       "[758 rows x 10 columns]"
      ]
     },
     "execution_count": 97,
     "metadata": {},
     "output_type": "execute_result"
    }
   ],
   "source": [
    "# Use the Alpaca get_barset function to make the API call to get the 3 years worth of pricing data\n",
    "# The tickers and timeframe parameters should have been set in Part 1 of this activity \n",
    "# The start and end dates should be updated with the information set above\n",
    "# Remember to add the df property to the end of the call so the response is returned as a DataFrame\n",
    "mc_close_prices_df = a_api.get_barset(tickers, timeframe, start=start_date_mc_iso, end=end_date_mc_iso, limit=limit_rows).df\n",
    "\n",
    "# Display both the first and last five rows of the DataFrame\n",
    "mc_close_prices_df"
   ]
  },
  {
   "cell_type": "code",
   "execution_count": 115,
   "metadata": {},
   "outputs": [
    {
     "data": {
      "text/html": [
       "<div>\n",
       "<style scoped>\n",
       "    .dataframe tbody tr th:only-of-type {\n",
       "        vertical-align: middle;\n",
       "    }\n",
       "\n",
       "    .dataframe tbody tr th {\n",
       "        vertical-align: top;\n",
       "    }\n",
       "\n",
       "    .dataframe thead tr th {\n",
       "        text-align: left;\n",
       "    }\n",
       "\n",
       "    .dataframe thead tr:last-of-type th {\n",
       "        text-align: right;\n",
       "    }\n",
       "</style>\n",
       "<table border=\"1\" class=\"dataframe\">\n",
       "  <thead>\n",
       "    <tr>\n",
       "      <th></th>\n",
       "      <th colspan=\"6\" halign=\"left\">AGG</th>\n",
       "      <th colspan=\"6\" halign=\"left\">SPY</th>\n",
       "    </tr>\n",
       "    <tr>\n",
       "      <th></th>\n",
       "      <th>open</th>\n",
       "      <th>high</th>\n",
       "      <th>low</th>\n",
       "      <th>close</th>\n",
       "      <th>volume</th>\n",
       "      <th>daily_return</th>\n",
       "      <th>open</th>\n",
       "      <th>high</th>\n",
       "      <th>low</th>\n",
       "      <th>close</th>\n",
       "      <th>volume</th>\n",
       "      <th>daily_return</th>\n",
       "    </tr>\n",
       "    <tr>\n",
       "      <th>time</th>\n",
       "      <th></th>\n",
       "      <th></th>\n",
       "      <th></th>\n",
       "      <th></th>\n",
       "      <th></th>\n",
       "      <th></th>\n",
       "      <th></th>\n",
       "      <th></th>\n",
       "      <th></th>\n",
       "      <th></th>\n",
       "      <th></th>\n",
       "      <th></th>\n",
       "    </tr>\n",
       "  </thead>\n",
       "  <tbody>\n",
       "    <tr>\n",
       "      <th>2019-01-22 00:00:00-05:00</th>\n",
       "      <td>106.44</td>\n",
       "      <td>108.510</td>\n",
       "      <td>106.44</td>\n",
       "      <td>106.455</td>\n",
       "      <td>6646771.0</td>\n",
       "      <td>NaN</td>\n",
       "      <td>264.82</td>\n",
       "      <td>265.06</td>\n",
       "      <td>261.0600</td>\n",
       "      <td>261.970</td>\n",
       "      <td>88775864</td>\n",
       "      <td>NaN</td>\n",
       "    </tr>\n",
       "    <tr>\n",
       "      <th>2019-01-23 00:00:00-05:00</th>\n",
       "      <td>106.38</td>\n",
       "      <td>106.590</td>\n",
       "      <td>106.37</td>\n",
       "      <td>106.530</td>\n",
       "      <td>2934313.0</td>\n",
       "      <td>0.000705</td>\n",
       "      <td>264.01</td>\n",
       "      <td>264.79</td>\n",
       "      <td>260.6600</td>\n",
       "      <td>263.100</td>\n",
       "      <td>74195206</td>\n",
       "      <td>0.004313</td>\n",
       "    </tr>\n",
       "    <tr>\n",
       "      <th>2019-01-24 00:00:00-05:00</th>\n",
       "      <td>106.72</td>\n",
       "      <td>106.840</td>\n",
       "      <td>106.67</td>\n",
       "      <td>106.730</td>\n",
       "      <td>6586980.0</td>\n",
       "      <td>0.001877</td>\n",
       "      <td>263.21</td>\n",
       "      <td>264.20</td>\n",
       "      <td>262.0800</td>\n",
       "      <td>263.690</td>\n",
       "      <td>48407752</td>\n",
       "      <td>0.002242</td>\n",
       "    </tr>\n",
       "    <tr>\n",
       "      <th>2019-01-25 00:00:00-05:00</th>\n",
       "      <td>106.64</td>\n",
       "      <td>106.700</td>\n",
       "      <td>106.56</td>\n",
       "      <td>106.675</td>\n",
       "      <td>3157633.0</td>\n",
       "      <td>-0.000515</td>\n",
       "      <td>265.61</td>\n",
       "      <td>266.70</td>\n",
       "      <td>263.6595</td>\n",
       "      <td>265.700</td>\n",
       "      <td>78094541</td>\n",
       "      <td>0.007623</td>\n",
       "    </tr>\n",
       "    <tr>\n",
       "      <th>2019-01-28 00:00:00-05:00</th>\n",
       "      <td>106.62</td>\n",
       "      <td>106.745</td>\n",
       "      <td>106.58</td>\n",
       "      <td>106.655</td>\n",
       "      <td>6372589.0</td>\n",
       "      <td>-0.000187</td>\n",
       "      <td>263.39</td>\n",
       "      <td>263.82</td>\n",
       "      <td>261.7900</td>\n",
       "      <td>263.635</td>\n",
       "      <td>75207990</td>\n",
       "      <td>-0.007772</td>\n",
       "    </tr>\n",
       "  </tbody>\n",
       "</table>\n",
       "</div>"
      ],
      "text/plain": [
       "                              AGG                                       \\\n",
       "                             open     high     low    close     volume   \n",
       "time                                                                     \n",
       "2019-01-22 00:00:00-05:00  106.44  108.510  106.44  106.455  6646771.0   \n",
       "2019-01-23 00:00:00-05:00  106.38  106.590  106.37  106.530  2934313.0   \n",
       "2019-01-24 00:00:00-05:00  106.72  106.840  106.67  106.730  6586980.0   \n",
       "2019-01-25 00:00:00-05:00  106.64  106.700  106.56  106.675  3157633.0   \n",
       "2019-01-28 00:00:00-05:00  106.62  106.745  106.58  106.655  6372589.0   \n",
       "\n",
       "                                           SPY                             \\\n",
       "                          daily_return    open    high       low    close   \n",
       "time                                                                        \n",
       "2019-01-22 00:00:00-05:00          NaN  264.82  265.06  261.0600  261.970   \n",
       "2019-01-23 00:00:00-05:00     0.000705  264.01  264.79  260.6600  263.100   \n",
       "2019-01-24 00:00:00-05:00     0.001877  263.21  264.20  262.0800  263.690   \n",
       "2019-01-25 00:00:00-05:00    -0.000515  265.61  266.70  263.6595  265.700   \n",
       "2019-01-28 00:00:00-05:00    -0.000187  263.39  263.82  261.7900  263.635   \n",
       "\n",
       "                                                  \n",
       "                             volume daily_return  \n",
       "time                                              \n",
       "2019-01-22 00:00:00-05:00  88775864          NaN  \n",
       "2019-01-23 00:00:00-05:00  74195206     0.004313  \n",
       "2019-01-24 00:00:00-05:00  48407752     0.002242  \n",
       "2019-01-25 00:00:00-05:00  78094541     0.007623  \n",
       "2019-01-28 00:00:00-05:00  75207990    -0.007772  "
      ]
     },
     "execution_count": 115,
     "metadata": {},
     "output_type": "execute_result"
    }
   ],
   "source": [
    "# Configure the Monte Carlo simulation to forecast 30 years cumulative returns\n",
    "# The weights should be split 40% to AGG and 60% to SPY.\n",
    "# Run 500 samples.\n",
    "thirty_year_simulation = MCSimulation(\n",
    "    portfolio_data=mc_close_prices_df,\n",
    "    weights=[0.40, 0.60],\n",
    "    num_simulation=500,\n",
    "    num_trading_days=252*30,\n",
    ")\n",
    "\n",
    "# Review the simulation input data\n",
    "thirty_year_simulation.portfolio_data.head()\n"
   ]
  },
  {
   "cell_type": "code",
   "execution_count": 116,
   "metadata": {},
   "outputs": [
    {
     "name": "stdout",
     "output_type": "stream",
     "text": [
      "Running Monte Carlo simulation number 0.\n",
      "Running Monte Carlo simulation number 10.\n",
      "Running Monte Carlo simulation number 20.\n",
      "Running Monte Carlo simulation number 30.\n",
      "Running Monte Carlo simulation number 40.\n",
      "Running Monte Carlo simulation number 50.\n",
      "Running Monte Carlo simulation number 60.\n",
      "Running Monte Carlo simulation number 70.\n",
      "Running Monte Carlo simulation number 80.\n",
      "Running Monte Carlo simulation number 90.\n",
      "Running Monte Carlo simulation number 100.\n"
     ]
    },
    {
     "name": "stderr",
     "output_type": "stream",
     "text": [
      "/Users/gabrielalcivar/Dropbox/fintech/Challenges/module_05/MCForecastTools.py:117: PerformanceWarning: DataFrame is highly fragmented.  This is usually the result of calling `frame.insert` many times, which has poor performance.  Consider joining all columns at once using pd.concat(axis=1) instead.  To get a de-fragmented frame, use `newframe = frame.copy()`\n",
      "  portfolio_cumulative_returns[n] = (1 + sim_df.fillna(0)).cumprod()\n"
     ]
    },
    {
     "name": "stdout",
     "output_type": "stream",
     "text": [
      "Running Monte Carlo simulation number 110.\n",
      "Running Monte Carlo simulation number 120.\n",
      "Running Monte Carlo simulation number 130.\n",
      "Running Monte Carlo simulation number 140.\n",
      "Running Monte Carlo simulation number 150.\n",
      "Running Monte Carlo simulation number 160.\n",
      "Running Monte Carlo simulation number 170.\n",
      "Running Monte Carlo simulation number 180.\n",
      "Running Monte Carlo simulation number 190.\n",
      "Running Monte Carlo simulation number 200.\n",
      "Running Monte Carlo simulation number 210.\n",
      "Running Monte Carlo simulation number 220.\n",
      "Running Monte Carlo simulation number 230.\n",
      "Running Monte Carlo simulation number 240.\n",
      "Running Monte Carlo simulation number 250.\n",
      "Running Monte Carlo simulation number 260.\n",
      "Running Monte Carlo simulation number 270.\n",
      "Running Monte Carlo simulation number 280.\n",
      "Running Monte Carlo simulation number 290.\n",
      "Running Monte Carlo simulation number 300.\n",
      "Running Monte Carlo simulation number 310.\n",
      "Running Monte Carlo simulation number 320.\n",
      "Running Monte Carlo simulation number 330.\n",
      "Running Monte Carlo simulation number 340.\n",
      "Running Monte Carlo simulation number 350.\n",
      "Running Monte Carlo simulation number 360.\n",
      "Running Monte Carlo simulation number 370.\n",
      "Running Monte Carlo simulation number 380.\n",
      "Running Monte Carlo simulation number 390.\n",
      "Running Monte Carlo simulation number 400.\n",
      "Running Monte Carlo simulation number 410.\n",
      "Running Monte Carlo simulation number 420.\n",
      "Running Monte Carlo simulation number 430.\n",
      "Running Monte Carlo simulation number 440.\n",
      "Running Monte Carlo simulation number 450.\n",
      "Running Monte Carlo simulation number 460.\n",
      "Running Monte Carlo simulation number 470.\n",
      "Running Monte Carlo simulation number 480.\n",
      "Running Monte Carlo simulation number 490.\n"
     ]
    },
    {
     "data": {
      "text/html": [
       "<div>\n",
       "<style scoped>\n",
       "    .dataframe tbody tr th:only-of-type {\n",
       "        vertical-align: middle;\n",
       "    }\n",
       "\n",
       "    .dataframe tbody tr th {\n",
       "        vertical-align: top;\n",
       "    }\n",
       "\n",
       "    .dataframe thead th {\n",
       "        text-align: right;\n",
       "    }\n",
       "</style>\n",
       "<table border=\"1\" class=\"dataframe\">\n",
       "  <thead>\n",
       "    <tr style=\"text-align: right;\">\n",
       "      <th></th>\n",
       "      <th>0</th>\n",
       "      <th>1</th>\n",
       "      <th>2</th>\n",
       "      <th>3</th>\n",
       "      <th>4</th>\n",
       "      <th>5</th>\n",
       "      <th>6</th>\n",
       "      <th>7</th>\n",
       "      <th>8</th>\n",
       "      <th>9</th>\n",
       "      <th>...</th>\n",
       "      <th>490</th>\n",
       "      <th>491</th>\n",
       "      <th>492</th>\n",
       "      <th>493</th>\n",
       "      <th>494</th>\n",
       "      <th>495</th>\n",
       "      <th>496</th>\n",
       "      <th>497</th>\n",
       "      <th>498</th>\n",
       "      <th>499</th>\n",
       "    </tr>\n",
       "  </thead>\n",
       "  <tbody>\n",
       "    <tr>\n",
       "      <th>0</th>\n",
       "      <td>1.000000</td>\n",
       "      <td>1.000000</td>\n",
       "      <td>1.000000</td>\n",
       "      <td>1.000000</td>\n",
       "      <td>1.000000</td>\n",
       "      <td>1.000000</td>\n",
       "      <td>1.000000</td>\n",
       "      <td>1.000000</td>\n",
       "      <td>1.000000</td>\n",
       "      <td>1.000000</td>\n",
       "      <td>...</td>\n",
       "      <td>1.000000</td>\n",
       "      <td>1.000000</td>\n",
       "      <td>1.000000</td>\n",
       "      <td>1.000000</td>\n",
       "      <td>1.000000</td>\n",
       "      <td>1.000000</td>\n",
       "      <td>1.000000</td>\n",
       "      <td>1.000000</td>\n",
       "      <td>1.000000</td>\n",
       "      <td>1.000000</td>\n",
       "    </tr>\n",
       "    <tr>\n",
       "      <th>1</th>\n",
       "      <td>1.004663</td>\n",
       "      <td>1.000835</td>\n",
       "      <td>0.990807</td>\n",
       "      <td>0.991464</td>\n",
       "      <td>1.000226</td>\n",
       "      <td>0.999040</td>\n",
       "      <td>1.007944</td>\n",
       "      <td>0.999933</td>\n",
       "      <td>0.997745</td>\n",
       "      <td>1.002500</td>\n",
       "      <td>...</td>\n",
       "      <td>0.995194</td>\n",
       "      <td>1.004098</td>\n",
       "      <td>1.000527</td>\n",
       "      <td>1.002375</td>\n",
       "      <td>0.999339</td>\n",
       "      <td>0.993394</td>\n",
       "      <td>0.994196</td>\n",
       "      <td>0.989420</td>\n",
       "      <td>0.996247</td>\n",
       "      <td>1.000837</td>\n",
       "    </tr>\n",
       "    <tr>\n",
       "      <th>2</th>\n",
       "      <td>1.017175</td>\n",
       "      <td>1.001021</td>\n",
       "      <td>1.002070</td>\n",
       "      <td>0.981329</td>\n",
       "      <td>1.020064</td>\n",
       "      <td>1.002879</td>\n",
       "      <td>1.003129</td>\n",
       "      <td>1.000421</td>\n",
       "      <td>1.008933</td>\n",
       "      <td>0.994632</td>\n",
       "      <td>...</td>\n",
       "      <td>1.003142</td>\n",
       "      <td>1.012606</td>\n",
       "      <td>0.999099</td>\n",
       "      <td>0.974920</td>\n",
       "      <td>0.995950</td>\n",
       "      <td>0.976468</td>\n",
       "      <td>1.005967</td>\n",
       "      <td>0.990575</td>\n",
       "      <td>0.985430</td>\n",
       "      <td>1.015076</td>\n",
       "    </tr>\n",
       "    <tr>\n",
       "      <th>3</th>\n",
       "      <td>1.029050</td>\n",
       "      <td>1.010863</td>\n",
       "      <td>1.010193</td>\n",
       "      <td>0.978822</td>\n",
       "      <td>1.018340</td>\n",
       "      <td>1.017486</td>\n",
       "      <td>1.017257</td>\n",
       "      <td>0.995276</td>\n",
       "      <td>1.004195</td>\n",
       "      <td>0.996287</td>\n",
       "      <td>...</td>\n",
       "      <td>0.993413</td>\n",
       "      <td>1.010208</td>\n",
       "      <td>1.000957</td>\n",
       "      <td>0.987743</td>\n",
       "      <td>0.987884</td>\n",
       "      <td>0.949499</td>\n",
       "      <td>1.007196</td>\n",
       "      <td>0.998226</td>\n",
       "      <td>0.974135</td>\n",
       "      <td>1.028239</td>\n",
       "    </tr>\n",
       "    <tr>\n",
       "      <th>4</th>\n",
       "      <td>1.022688</td>\n",
       "      <td>1.012345</td>\n",
       "      <td>1.001154</td>\n",
       "      <td>0.990719</td>\n",
       "      <td>1.014430</td>\n",
       "      <td>1.038592</td>\n",
       "      <td>1.018094</td>\n",
       "      <td>0.988937</td>\n",
       "      <td>1.002961</td>\n",
       "      <td>0.992221</td>\n",
       "      <td>...</td>\n",
       "      <td>0.991592</td>\n",
       "      <td>1.010939</td>\n",
       "      <td>0.997280</td>\n",
       "      <td>0.983808</td>\n",
       "      <td>0.981809</td>\n",
       "      <td>0.954082</td>\n",
       "      <td>0.999898</td>\n",
       "      <td>1.005559</td>\n",
       "      <td>0.976246</td>\n",
       "      <td>1.030127</td>\n",
       "    </tr>\n",
       "    <tr>\n",
       "      <th>...</th>\n",
       "      <td>...</td>\n",
       "      <td>...</td>\n",
       "      <td>...</td>\n",
       "      <td>...</td>\n",
       "      <td>...</td>\n",
       "      <td>...</td>\n",
       "      <td>...</td>\n",
       "      <td>...</td>\n",
       "      <td>...</td>\n",
       "      <td>...</td>\n",
       "      <td>...</td>\n",
       "      <td>...</td>\n",
       "      <td>...</td>\n",
       "      <td>...</td>\n",
       "      <td>...</td>\n",
       "      <td>...</td>\n",
       "      <td>...</td>\n",
       "      <td>...</td>\n",
       "      <td>...</td>\n",
       "      <td>...</td>\n",
       "      <td>...</td>\n",
       "    </tr>\n",
       "    <tr>\n",
       "      <th>7556</th>\n",
       "      <td>46.429740</td>\n",
       "      <td>69.872945</td>\n",
       "      <td>92.468428</td>\n",
       "      <td>18.187565</td>\n",
       "      <td>83.871493</td>\n",
       "      <td>65.024565</td>\n",
       "      <td>69.340221</td>\n",
       "      <td>11.487752</td>\n",
       "      <td>52.390646</td>\n",
       "      <td>99.596609</td>\n",
       "      <td>...</td>\n",
       "      <td>26.966106</td>\n",
       "      <td>17.576251</td>\n",
       "      <td>43.944772</td>\n",
       "      <td>14.942717</td>\n",
       "      <td>64.874512</td>\n",
       "      <td>24.033598</td>\n",
       "      <td>31.765873</td>\n",
       "      <td>37.505401</td>\n",
       "      <td>92.409854</td>\n",
       "      <td>34.417281</td>\n",
       "    </tr>\n",
       "    <tr>\n",
       "      <th>7557</th>\n",
       "      <td>45.454369</td>\n",
       "      <td>70.322566</td>\n",
       "      <td>92.993088</td>\n",
       "      <td>18.622933</td>\n",
       "      <td>84.897582</td>\n",
       "      <td>65.322434</td>\n",
       "      <td>69.390186</td>\n",
       "      <td>11.621105</td>\n",
       "      <td>52.919816</td>\n",
       "      <td>100.646157</td>\n",
       "      <td>...</td>\n",
       "      <td>26.994710</td>\n",
       "      <td>17.939366</td>\n",
       "      <td>44.549351</td>\n",
       "      <td>14.959478</td>\n",
       "      <td>65.110604</td>\n",
       "      <td>23.798627</td>\n",
       "      <td>31.985164</td>\n",
       "      <td>37.649729</td>\n",
       "      <td>91.840186</td>\n",
       "      <td>34.178052</td>\n",
       "    </tr>\n",
       "    <tr>\n",
       "      <th>7558</th>\n",
       "      <td>46.257934</td>\n",
       "      <td>70.945583</td>\n",
       "      <td>93.160144</td>\n",
       "      <td>18.682112</td>\n",
       "      <td>85.070449</td>\n",
       "      <td>65.024916</td>\n",
       "      <td>69.638696</td>\n",
       "      <td>11.617767</td>\n",
       "      <td>52.948368</td>\n",
       "      <td>101.747778</td>\n",
       "      <td>...</td>\n",
       "      <td>27.303727</td>\n",
       "      <td>17.917621</td>\n",
       "      <td>44.814404</td>\n",
       "      <td>14.978368</td>\n",
       "      <td>65.063875</td>\n",
       "      <td>23.733624</td>\n",
       "      <td>31.341893</td>\n",
       "      <td>37.817486</td>\n",
       "      <td>91.987087</td>\n",
       "      <td>34.492322</td>\n",
       "    </tr>\n",
       "    <tr>\n",
       "      <th>7559</th>\n",
       "      <td>46.546037</td>\n",
       "      <td>71.099454</td>\n",
       "      <td>93.168958</td>\n",
       "      <td>18.632163</td>\n",
       "      <td>84.902892</td>\n",
       "      <td>65.708101</td>\n",
       "      <td>70.008818</td>\n",
       "      <td>11.620690</td>\n",
       "      <td>53.384480</td>\n",
       "      <td>102.308487</td>\n",
       "      <td>...</td>\n",
       "      <td>26.962766</td>\n",
       "      <td>17.877496</td>\n",
       "      <td>44.472117</td>\n",
       "      <td>15.084773</td>\n",
       "      <td>65.202992</td>\n",
       "      <td>23.879929</td>\n",
       "      <td>31.522482</td>\n",
       "      <td>38.021646</td>\n",
       "      <td>92.589204</td>\n",
       "      <td>34.567702</td>\n",
       "    </tr>\n",
       "    <tr>\n",
       "      <th>7560</th>\n",
       "      <td>46.642228</td>\n",
       "      <td>71.546701</td>\n",
       "      <td>93.329482</td>\n",
       "      <td>18.803034</td>\n",
       "      <td>84.409360</td>\n",
       "      <td>65.910784</td>\n",
       "      <td>69.692832</td>\n",
       "      <td>11.543530</td>\n",
       "      <td>53.597006</td>\n",
       "      <td>101.479309</td>\n",
       "      <td>...</td>\n",
       "      <td>27.208352</td>\n",
       "      <td>17.858986</td>\n",
       "      <td>43.745739</td>\n",
       "      <td>15.018739</td>\n",
       "      <td>65.428201</td>\n",
       "      <td>24.009669</td>\n",
       "      <td>31.655608</td>\n",
       "      <td>37.988070</td>\n",
       "      <td>92.963444</td>\n",
       "      <td>34.327028</td>\n",
       "    </tr>\n",
       "  </tbody>\n",
       "</table>\n",
       "<p>7561 rows × 500 columns</p>\n",
       "</div>"
      ],
      "text/plain": [
       "            0          1          2          3          4          5    \\\n",
       "0      1.000000   1.000000   1.000000   1.000000   1.000000   1.000000   \n",
       "1      1.004663   1.000835   0.990807   0.991464   1.000226   0.999040   \n",
       "2      1.017175   1.001021   1.002070   0.981329   1.020064   1.002879   \n",
       "3      1.029050   1.010863   1.010193   0.978822   1.018340   1.017486   \n",
       "4      1.022688   1.012345   1.001154   0.990719   1.014430   1.038592   \n",
       "...         ...        ...        ...        ...        ...        ...   \n",
       "7556  46.429740  69.872945  92.468428  18.187565  83.871493  65.024565   \n",
       "7557  45.454369  70.322566  92.993088  18.622933  84.897582  65.322434   \n",
       "7558  46.257934  70.945583  93.160144  18.682112  85.070449  65.024916   \n",
       "7559  46.546037  71.099454  93.168958  18.632163  84.902892  65.708101   \n",
       "7560  46.642228  71.546701  93.329482  18.803034  84.409360  65.910784   \n",
       "\n",
       "            6          7          8           9    ...        490        491  \\\n",
       "0      1.000000   1.000000   1.000000    1.000000  ...   1.000000   1.000000   \n",
       "1      1.007944   0.999933   0.997745    1.002500  ...   0.995194   1.004098   \n",
       "2      1.003129   1.000421   1.008933    0.994632  ...   1.003142   1.012606   \n",
       "3      1.017257   0.995276   1.004195    0.996287  ...   0.993413   1.010208   \n",
       "4      1.018094   0.988937   1.002961    0.992221  ...   0.991592   1.010939   \n",
       "...         ...        ...        ...         ...  ...        ...        ...   \n",
       "7556  69.340221  11.487752  52.390646   99.596609  ...  26.966106  17.576251   \n",
       "7557  69.390186  11.621105  52.919816  100.646157  ...  26.994710  17.939366   \n",
       "7558  69.638696  11.617767  52.948368  101.747778  ...  27.303727  17.917621   \n",
       "7559  70.008818  11.620690  53.384480  102.308487  ...  26.962766  17.877496   \n",
       "7560  69.692832  11.543530  53.597006  101.479309  ...  27.208352  17.858986   \n",
       "\n",
       "            492        493        494        495        496        497  \\\n",
       "0      1.000000   1.000000   1.000000   1.000000   1.000000   1.000000   \n",
       "1      1.000527   1.002375   0.999339   0.993394   0.994196   0.989420   \n",
       "2      0.999099   0.974920   0.995950   0.976468   1.005967   0.990575   \n",
       "3      1.000957   0.987743   0.987884   0.949499   1.007196   0.998226   \n",
       "4      0.997280   0.983808   0.981809   0.954082   0.999898   1.005559   \n",
       "...         ...        ...        ...        ...        ...        ...   \n",
       "7556  43.944772  14.942717  64.874512  24.033598  31.765873  37.505401   \n",
       "7557  44.549351  14.959478  65.110604  23.798627  31.985164  37.649729   \n",
       "7558  44.814404  14.978368  65.063875  23.733624  31.341893  37.817486   \n",
       "7559  44.472117  15.084773  65.202992  23.879929  31.522482  38.021646   \n",
       "7560  43.745739  15.018739  65.428201  24.009669  31.655608  37.988070   \n",
       "\n",
       "            498        499  \n",
       "0      1.000000   1.000000  \n",
       "1      0.996247   1.000837  \n",
       "2      0.985430   1.015076  \n",
       "3      0.974135   1.028239  \n",
       "4      0.976246   1.030127  \n",
       "...         ...        ...  \n",
       "7556  92.409854  34.417281  \n",
       "7557  91.840186  34.178052  \n",
       "7558  91.987087  34.492322  \n",
       "7559  92.589204  34.567702  \n",
       "7560  92.963444  34.327028  \n",
       "\n",
       "[7561 rows x 500 columns]"
      ]
     },
     "execution_count": 116,
     "metadata": {},
     "output_type": "execute_result"
    }
   ],
   "source": [
    "# Run the Monte Carlo simulation to forecast 30 years cumulative returns\n",
    "thirty_year_simulation.calc_cumulative_return()"
   ]
  },
  {
   "cell_type": "code",
   "execution_count": 117,
   "metadata": {},
   "outputs": [
    {
     "data": {
      "text/plain": [
       "<AxesSubplot:title={'center':'500 Simulations of Cumulative Portfolio Return Trajectories Over the Next 7560 Trading Days.'}>"
      ]
     },
     "execution_count": 117,
     "metadata": {},
     "output_type": "execute_result"
    },
    {
     "data": {
      "image/png": "[encoded data removed]",
      "text/plain": [
       "<Figure size 432x288 with 1 Axes>"
      ]
     },
     "metadata": {
      "needs_background": "light"
     },
     "output_type": "display_data"
    }
   ],
   "source": [
    "# Visualize the 30-year Monte Carlo simulation by creating an\n",
    "# overlay line plot\n",
    "thirty_year_simulation.plot_simulation()\n"
   ]
  },
  {
   "cell_type": "markdown",
   "metadata": {},
   "source": [
    "#### Step 3: Plot the probability distribution of the Monte Carlo simulation."
   ]
  },
  {
   "cell_type": "code",
   "execution_count": 118,
   "metadata": {},
   "outputs": [
    {
     "data": {
      "text/plain": [
       "<AxesSubplot:title={'center':'Distribution of Final Cumuluative Returns Across All 500 Simulations'}, ylabel='Frequency'>"
      ]
     },
     "execution_count": 118,
     "metadata": {},
     "output_type": "execute_result"
    },
    {
     "data": {
      "image/png": "[encoded data removed]",
      "text/plain": [
       "<Figure size 432x288 with 1 Axes>"
      ]
     },
     "metadata": {
      "needs_background": "light"
     },
     "output_type": "display_data"
    }
   ],
   "source": [
    "# Visualize the probability distribution of the 30-year Monte Carlo simulation \n",
    "# by plotting a histogram\n",
    "thirty_year_simulation.plot_distribution()\n"
   ]
  },
  {
   "cell_type": "markdown",
   "metadata": {},
   "source": [
    "#### Step 4: Generate the summary statistics for the Monte Carlo simulation."
   ]
  },
  {
   "cell_type": "code",
   "execution_count": 128,
   "metadata": {},
   "outputs": [
    {
     "data": {
      "text/plain": [
       "count           500.000000\n",
       "mean             43.219779\n",
       "std              35.396715\n",
       "min               4.879111\n",
       "25%              19.742223\n",
       "50%              33.036651\n",
       "75%              53.319759\n",
       "max             232.895669\n",
       "95% CI Lower      8.510254\n",
       "95% CI Upper    149.125019\n",
       "Name: 7560, dtype: float64"
      ]
     },
     "execution_count": 128,
     "metadata": {},
     "output_type": "execute_result"
    }
   ],
   "source": [
    "# Generate summary statistics from the 30-year Monte Carlo simulation results\n",
    "# Save the results as a variable\n",
    "mc_summary_30 = thirty_year_simulation.summarize_cumulative_return()\n",
    "\n",
    "\n",
    "# Review the 30-year Monte Carlo summary statistics\n",
    "mc_summary_30"
   ]
  },
  {
   "cell_type": "markdown",
   "metadata": {},
   "source": [
    "### Analyze the Retirement Portfolio Forecasts\n",
    "\n",
    "Using the current value of only the stock and bond portion of the member's portfolio and the summary statistics that you generated from the Monte Carlo simulation, answer the following question in your Jupyter notebook:\n",
    "\n",
    "-  What are the lower and upper bounds for the expected value of the portfolio with a 95% confidence interval?\n"
   ]
  },
  {
   "cell_type": "code",
   "execution_count": 120,
   "metadata": {},
   "outputs": [
    {
     "data": {
      "text/html": [
       "<div>\n",
       "<style scoped>\n",
       "    .dataframe tbody tr th:only-of-type {\n",
       "        vertical-align: middle;\n",
       "    }\n",
       "\n",
       "    .dataframe tbody tr th {\n",
       "        vertical-align: top;\n",
       "    }\n",
       "\n",
       "    .dataframe thead th {\n",
       "        text-align: right;\n",
       "    }\n",
       "</style>\n",
       "<table border=\"1\" class=\"dataframe\">\n",
       "  <thead>\n",
       "    <tr style=\"text-align: right;\">\n",
       "      <th></th>\n",
       "      <th>amount</th>\n",
       "    </tr>\n",
       "  </thead>\n",
       "  <tbody>\n",
       "    <tr>\n",
       "      <th>stock/bond</th>\n",
       "      <td>70640.100</td>\n",
       "    </tr>\n",
       "    <tr>\n",
       "      <th>crypto</th>\n",
       "      <td>55568.693</td>\n",
       "    </tr>\n",
       "  </tbody>\n",
       "</table>\n",
       "</div>"
      ],
      "text/plain": [
       "               amount\n",
       "stock/bond  70640.100\n",
       "crypto      55568.693"
      ]
     },
     "execution_count": 120,
     "metadata": {},
     "output_type": "execute_result"
    }
   ],
   "source": [
    "# Print the current balance of the stock and bond portion of the members portfolio\n",
    "savings_df\n"
   ]
  },
  {
   "cell_type": "code",
   "execution_count": 129,
   "metadata": {},
   "outputs": [
    {
     "name": "stdout",
     "output_type": "stream",
     "text": [
      "Lower level at 95% Confidence Level $601165.20 and Upper level at 95% Confidence Level $10534206.25\n"
     ]
    }
   ],
   "source": [
    "# Use the lower and upper `95%` confidence intervals to calculate the range of the possible outcomes for the current stock/bond portfolio\n",
    "ci_lower_thirty_cumulative_return = savings_df.iloc[0][\"amount\"] * mc_summary_30[\"95% CI Lower\"]\n",
    "ci_upper_thirty_cumulative_return = savings_df.iloc[0][\"amount\"] * mc_summary_30[\"95% CI Upper\"]\n",
    "\n",
    "# Print the result of your calculations\n",
    "print(f\"Lower level at 95% Confidence Level ${ci_lower_thirty_cumulative_return:.2f} and Upper level at 95% Confidence Level ${ci_upper_thirty_cumulative_return:.2f}\")\n"
   ]
  },
  {
   "cell_type": "markdown",
   "metadata": {},
   "source": [
    "### Forecast Cumulative Returns in 10 Years\n",
    "\n",
    "The CTO of the credit union is impressed with your work on these planning tools but wonders if 30 years is a long time to wait until retirement. So, your next task is to adjust the retirement portfolio and run a new Monte Carlo simulation to find out if the changes will allow members to retire earlier.\n",
    "\n",
    "For this new Monte Carlo simulation, do the following: \n",
    "\n",
    "- Forecast the cumulative returns for 10 years from now. Because of the shortened investment horizon (30 years to 10 years), the portfolio needs to invest more heavily in the riskier asset&mdash;that is, stock&mdash;to help accumulate wealth for retirement. \n",
    "\n",
    "- Adjust the weights of the retirement portfolio so that the composition for the Monte Carlo simulation consists of 20% bonds and 80% stocks. \n",
    "\n",
    "- Run the simulation over 500 samples, and use the same data that the API call to Alpaca generated.\n",
    "\n",
    "- Based on the new Monte Carlo simulation, answer the following questions in your Jupyter notebook:\n",
    "\n",
    "    - Using the current value of only the stock and bond portion of the member's portfolio and the summary statistics that you generated from the new Monte Carlo simulation, what are the lower and upper bounds for the expected value of the portfolio (with the new weights) with a 95% confidence interval?\n",
    "\n",
    "    - Will weighting the portfolio more heavily toward stocks allow the credit union members to retire after only 10 years?\n"
   ]
  },
  {
   "cell_type": "code",
   "execution_count": 122,
   "metadata": {},
   "outputs": [
    {
     "data": {
      "text/html": [
       "<div>\n",
       "<style scoped>\n",
       "    .dataframe tbody tr th:only-of-type {\n",
       "        vertical-align: middle;\n",
       "    }\n",
       "\n",
       "    .dataframe tbody tr th {\n",
       "        vertical-align: top;\n",
       "    }\n",
       "\n",
       "    .dataframe thead tr th {\n",
       "        text-align: left;\n",
       "    }\n",
       "\n",
       "    .dataframe thead tr:last-of-type th {\n",
       "        text-align: right;\n",
       "    }\n",
       "</style>\n",
       "<table border=\"1\" class=\"dataframe\">\n",
       "  <thead>\n",
       "    <tr>\n",
       "      <th></th>\n",
       "      <th colspan=\"6\" halign=\"left\">AGG</th>\n",
       "      <th colspan=\"6\" halign=\"left\">SPY</th>\n",
       "    </tr>\n",
       "    <tr>\n",
       "      <th></th>\n",
       "      <th>open</th>\n",
       "      <th>high</th>\n",
       "      <th>low</th>\n",
       "      <th>close</th>\n",
       "      <th>volume</th>\n",
       "      <th>daily_return</th>\n",
       "      <th>open</th>\n",
       "      <th>high</th>\n",
       "      <th>low</th>\n",
       "      <th>close</th>\n",
       "      <th>volume</th>\n",
       "      <th>daily_return</th>\n",
       "    </tr>\n",
       "    <tr>\n",
       "      <th>time</th>\n",
       "      <th></th>\n",
       "      <th></th>\n",
       "      <th></th>\n",
       "      <th></th>\n",
       "      <th></th>\n",
       "      <th></th>\n",
       "      <th></th>\n",
       "      <th></th>\n",
       "      <th></th>\n",
       "      <th></th>\n",
       "      <th></th>\n",
       "      <th></th>\n",
       "    </tr>\n",
       "  </thead>\n",
       "  <tbody>\n",
       "    <tr>\n",
       "      <th>2019-01-22 00:00:00-05:00</th>\n",
       "      <td>106.44</td>\n",
       "      <td>108.510</td>\n",
       "      <td>106.44</td>\n",
       "      <td>106.455</td>\n",
       "      <td>6646771.0</td>\n",
       "      <td>NaN</td>\n",
       "      <td>264.82</td>\n",
       "      <td>265.06</td>\n",
       "      <td>261.0600</td>\n",
       "      <td>261.970</td>\n",
       "      <td>88775864</td>\n",
       "      <td>NaN</td>\n",
       "    </tr>\n",
       "    <tr>\n",
       "      <th>2019-01-23 00:00:00-05:00</th>\n",
       "      <td>106.38</td>\n",
       "      <td>106.590</td>\n",
       "      <td>106.37</td>\n",
       "      <td>106.530</td>\n",
       "      <td>2934313.0</td>\n",
       "      <td>0.000705</td>\n",
       "      <td>264.01</td>\n",
       "      <td>264.79</td>\n",
       "      <td>260.6600</td>\n",
       "      <td>263.100</td>\n",
       "      <td>74195206</td>\n",
       "      <td>0.004313</td>\n",
       "    </tr>\n",
       "    <tr>\n",
       "      <th>2019-01-24 00:00:00-05:00</th>\n",
       "      <td>106.72</td>\n",
       "      <td>106.840</td>\n",
       "      <td>106.67</td>\n",
       "      <td>106.730</td>\n",
       "      <td>6586980.0</td>\n",
       "      <td>0.001877</td>\n",
       "      <td>263.21</td>\n",
       "      <td>264.20</td>\n",
       "      <td>262.0800</td>\n",
       "      <td>263.690</td>\n",
       "      <td>48407752</td>\n",
       "      <td>0.002242</td>\n",
       "    </tr>\n",
       "    <tr>\n",
       "      <th>2019-01-25 00:00:00-05:00</th>\n",
       "      <td>106.64</td>\n",
       "      <td>106.700</td>\n",
       "      <td>106.56</td>\n",
       "      <td>106.675</td>\n",
       "      <td>3157633.0</td>\n",
       "      <td>-0.000515</td>\n",
       "      <td>265.61</td>\n",
       "      <td>266.70</td>\n",
       "      <td>263.6595</td>\n",
       "      <td>265.700</td>\n",
       "      <td>78094541</td>\n",
       "      <td>0.007623</td>\n",
       "    </tr>\n",
       "    <tr>\n",
       "      <th>2019-01-28 00:00:00-05:00</th>\n",
       "      <td>106.62</td>\n",
       "      <td>106.745</td>\n",
       "      <td>106.58</td>\n",
       "      <td>106.655</td>\n",
       "      <td>6372589.0</td>\n",
       "      <td>-0.000187</td>\n",
       "      <td>263.39</td>\n",
       "      <td>263.82</td>\n",
       "      <td>261.7900</td>\n",
       "      <td>263.635</td>\n",
       "      <td>75207990</td>\n",
       "      <td>-0.007772</td>\n",
       "    </tr>\n",
       "  </tbody>\n",
       "</table>\n",
       "</div>"
      ],
      "text/plain": [
       "                              AGG                                       \\\n",
       "                             open     high     low    close     volume   \n",
       "time                                                                     \n",
       "2019-01-22 00:00:00-05:00  106.44  108.510  106.44  106.455  6646771.0   \n",
       "2019-01-23 00:00:00-05:00  106.38  106.590  106.37  106.530  2934313.0   \n",
       "2019-01-24 00:00:00-05:00  106.72  106.840  106.67  106.730  6586980.0   \n",
       "2019-01-25 00:00:00-05:00  106.64  106.700  106.56  106.675  3157633.0   \n",
       "2019-01-28 00:00:00-05:00  106.62  106.745  106.58  106.655  6372589.0   \n",
       "\n",
       "                                           SPY                             \\\n",
       "                          daily_return    open    high       low    close   \n",
       "time                                                                        \n",
       "2019-01-22 00:00:00-05:00          NaN  264.82  265.06  261.0600  261.970   \n",
       "2019-01-23 00:00:00-05:00     0.000705  264.01  264.79  260.6600  263.100   \n",
       "2019-01-24 00:00:00-05:00     0.001877  263.21  264.20  262.0800  263.690   \n",
       "2019-01-25 00:00:00-05:00    -0.000515  265.61  266.70  263.6595  265.700   \n",
       "2019-01-28 00:00:00-05:00    -0.000187  263.39  263.82  261.7900  263.635   \n",
       "\n",
       "                                                  \n",
       "                             volume daily_return  \n",
       "time                                              \n",
       "2019-01-22 00:00:00-05:00  88775864          NaN  \n",
       "2019-01-23 00:00:00-05:00  74195206     0.004313  \n",
       "2019-01-24 00:00:00-05:00  48407752     0.002242  \n",
       "2019-01-25 00:00:00-05:00  78094541     0.007623  \n",
       "2019-01-28 00:00:00-05:00  75207990    -0.007772  "
      ]
     },
     "execution_count": 122,
     "metadata": {},
     "output_type": "execute_result"
    }
   ],
   "source": [
    "# Configure a Monte Carlo simulation to forecast 10 years cumulative returns\n",
    "# The weights should be split 20% to AGG and 80% to SPY.\n",
    "# Run 500 samples.\n",
    "ten_year_simulation = MCSimulation(\n",
    "    portfolio_data=mc_close_prices_df,\n",
    "    weights=[0.20, 0.80],\n",
    "    num_simulation=500,\n",
    "    num_trading_days=252*10,\n",
    ")\n",
    "\n",
    "# Review the simulation input data\n",
    "ten_year_simulation.portfolio_data.head()\n"
   ]
  },
  {
   "cell_type": "code",
   "execution_count": 123,
   "metadata": {},
   "outputs": [
    {
     "name": "stdout",
     "output_type": "stream",
     "text": [
      "Running Monte Carlo simulation number 0.\n",
      "Running Monte Carlo simulation number 10.\n",
      "Running Monte Carlo simulation number 20.\n",
      "Running Monte Carlo simulation number 30.\n",
      "Running Monte Carlo simulation number 40.\n",
      "Running Monte Carlo simulation number 50.\n",
      "Running Monte Carlo simulation number 60.\n",
      "Running Monte Carlo simulation number 70.\n",
      "Running Monte Carlo simulation number 80.\n",
      "Running Monte Carlo simulation number 90.\n",
      "Running Monte Carlo simulation number 100.\n"
     ]
    },
    {
     "name": "stderr",
     "output_type": "stream",
     "text": [
      "/Users/gabrielalcivar/Dropbox/fintech/Challenges/module_05/MCForecastTools.py:117: PerformanceWarning: DataFrame is highly fragmented.  This is usually the result of calling `frame.insert` many times, which has poor performance.  Consider joining all columns at once using pd.concat(axis=1) instead.  To get a de-fragmented frame, use `newframe = frame.copy()`\n",
      "  portfolio_cumulative_returns[n] = (1 + sim_df.fillna(0)).cumprod()\n"
     ]
    },
    {
     "name": "stdout",
     "output_type": "stream",
     "text": [
      "Running Monte Carlo simulation number 110.\n",
      "Running Monte Carlo simulation number 120.\n",
      "Running Monte Carlo simulation number 130.\n",
      "Running Monte Carlo simulation number 140.\n",
      "Running Monte Carlo simulation number 150.\n",
      "Running Monte Carlo simulation number 160.\n",
      "Running Monte Carlo simulation number 170.\n",
      "Running Monte Carlo simulation number 180.\n",
      "Running Monte Carlo simulation number 190.\n",
      "Running Monte Carlo simulation number 200.\n",
      "Running Monte Carlo simulation number 210.\n",
      "Running Monte Carlo simulation number 220.\n",
      "Running Monte Carlo simulation number 230.\n",
      "Running Monte Carlo simulation number 240.\n",
      "Running Monte Carlo simulation number 250.\n",
      "Running Monte Carlo simulation number 260.\n",
      "Running Monte Carlo simulation number 270.\n",
      "Running Monte Carlo simulation number 280.\n",
      "Running Monte Carlo simulation number 290.\n",
      "Running Monte Carlo simulation number 300.\n",
      "Running Monte Carlo simulation number 310.\n",
      "Running Monte Carlo simulation number 320.\n",
      "Running Monte Carlo simulation number 330.\n",
      "Running Monte Carlo simulation number 340.\n",
      "Running Monte Carlo simulation number 350.\n",
      "Running Monte Carlo simulation number 360.\n",
      "Running Monte Carlo simulation number 370.\n",
      "Running Monte Carlo simulation number 380.\n",
      "Running Monte Carlo simulation number 390.\n",
      "Running Monte Carlo simulation number 400.\n",
      "Running Monte Carlo simulation number 410.\n",
      "Running Monte Carlo simulation number 420.\n",
      "Running Monte Carlo simulation number 430.\n",
      "Running Monte Carlo simulation number 440.\n",
      "Running Monte Carlo simulation number 450.\n",
      "Running Monte Carlo simulation number 460.\n",
      "Running Monte Carlo simulation number 470.\n",
      "Running Monte Carlo simulation number 480.\n",
      "Running Monte Carlo simulation number 490.\n"
     ]
    },
    {
     "data": {
      "text/html": [
       "<div>\n",
       "<style scoped>\n",
       "    .dataframe tbody tr th:only-of-type {\n",
       "        vertical-align: middle;\n",
       "    }\n",
       "\n",
       "    .dataframe tbody tr th {\n",
       "        vertical-align: top;\n",
       "    }\n",
       "\n",
       "    .dataframe thead th {\n",
       "        text-align: right;\n",
       "    }\n",
       "</style>\n",
       "<table border=\"1\" class=\"dataframe\">\n",
       "  <thead>\n",
       "    <tr style=\"text-align: right;\">\n",
       "      <th></th>\n",
       "      <th>0</th>\n",
       "      <th>1</th>\n",
       "      <th>2</th>\n",
       "      <th>3</th>\n",
       "      <th>4</th>\n",
       "      <th>5</th>\n",
       "      <th>6</th>\n",
       "      <th>7</th>\n",
       "      <th>8</th>\n",
       "      <th>9</th>\n",
       "      <th>...</th>\n",
       "      <th>490</th>\n",
       "      <th>491</th>\n",
       "      <th>492</th>\n",
       "      <th>493</th>\n",
       "      <th>494</th>\n",
       "      <th>495</th>\n",
       "      <th>496</th>\n",
       "      <th>497</th>\n",
       "      <th>498</th>\n",
       "      <th>499</th>\n",
       "    </tr>\n",
       "  </thead>\n",
       "  <tbody>\n",
       "    <tr>\n",
       "      <th>0</th>\n",
       "      <td>1.000000</td>\n",
       "      <td>1.000000</td>\n",
       "      <td>1.000000</td>\n",
       "      <td>1.000000</td>\n",
       "      <td>1.000000</td>\n",
       "      <td>1.000000</td>\n",
       "      <td>1.000000</td>\n",
       "      <td>1.000000</td>\n",
       "      <td>1.000000</td>\n",
       "      <td>1.000000</td>\n",
       "      <td>...</td>\n",
       "      <td>1.000000</td>\n",
       "      <td>1.000000</td>\n",
       "      <td>1.000000</td>\n",
       "      <td>1.000000</td>\n",
       "      <td>1.000000</td>\n",
       "      <td>1.000000</td>\n",
       "      <td>1.000000</td>\n",
       "      <td>1.000000</td>\n",
       "      <td>1.000000</td>\n",
       "      <td>1.000000</td>\n",
       "    </tr>\n",
       "    <tr>\n",
       "      <th>1</th>\n",
       "      <td>1.001538</td>\n",
       "      <td>1.001776</td>\n",
       "      <td>0.996925</td>\n",
       "      <td>0.996028</td>\n",
       "      <td>0.995750</td>\n",
       "      <td>1.005365</td>\n",
       "      <td>1.003866</td>\n",
       "      <td>0.995816</td>\n",
       "      <td>1.009956</td>\n",
       "      <td>1.007015</td>\n",
       "      <td>...</td>\n",
       "      <td>1.009376</td>\n",
       "      <td>1.007941</td>\n",
       "      <td>1.025128</td>\n",
       "      <td>1.001578</td>\n",
       "      <td>1.002999</td>\n",
       "      <td>0.983268</td>\n",
       "      <td>1.013476</td>\n",
       "      <td>1.029535</td>\n",
       "      <td>0.990116</td>\n",
       "      <td>1.012129</td>\n",
       "    </tr>\n",
       "    <tr>\n",
       "      <th>2</th>\n",
       "      <td>0.988453</td>\n",
       "      <td>1.004597</td>\n",
       "      <td>0.994386</td>\n",
       "      <td>0.982383</td>\n",
       "      <td>0.985567</td>\n",
       "      <td>1.022241</td>\n",
       "      <td>0.995960</td>\n",
       "      <td>0.996992</td>\n",
       "      <td>0.995620</td>\n",
       "      <td>1.017959</td>\n",
       "      <td>...</td>\n",
       "      <td>1.017060</td>\n",
       "      <td>1.011779</td>\n",
       "      <td>1.030798</td>\n",
       "      <td>0.985593</td>\n",
       "      <td>1.012611</td>\n",
       "      <td>0.983106</td>\n",
       "      <td>1.001168</td>\n",
       "      <td>1.013373</td>\n",
       "      <td>0.993411</td>\n",
       "      <td>1.029621</td>\n",
       "    </tr>\n",
       "    <tr>\n",
       "      <th>3</th>\n",
       "      <td>1.003965</td>\n",
       "      <td>1.005747</td>\n",
       "      <td>0.997993</td>\n",
       "      <td>0.974816</td>\n",
       "      <td>0.986071</td>\n",
       "      <td>1.030823</td>\n",
       "      <td>0.999353</td>\n",
       "      <td>0.993979</td>\n",
       "      <td>0.982302</td>\n",
       "      <td>1.008889</td>\n",
       "      <td>...</td>\n",
       "      <td>1.024856</td>\n",
       "      <td>0.993333</td>\n",
       "      <td>1.020264</td>\n",
       "      <td>0.987800</td>\n",
       "      <td>1.011855</td>\n",
       "      <td>0.974307</td>\n",
       "      <td>1.011169</td>\n",
       "      <td>1.022842</td>\n",
       "      <td>1.001533</td>\n",
       "      <td>1.024105</td>\n",
       "    </tr>\n",
       "    <tr>\n",
       "      <th>4</th>\n",
       "      <td>1.021240</td>\n",
       "      <td>1.004452</td>\n",
       "      <td>0.995621</td>\n",
       "      <td>0.981216</td>\n",
       "      <td>0.992453</td>\n",
       "      <td>1.030635</td>\n",
       "      <td>1.011419</td>\n",
       "      <td>1.002569</td>\n",
       "      <td>0.987279</td>\n",
       "      <td>1.007059</td>\n",
       "      <td>...</td>\n",
       "      <td>1.037333</td>\n",
       "      <td>0.977781</td>\n",
       "      <td>1.020710</td>\n",
       "      <td>0.982794</td>\n",
       "      <td>1.000392</td>\n",
       "      <td>0.963616</td>\n",
       "      <td>1.007326</td>\n",
       "      <td>1.025758</td>\n",
       "      <td>0.985992</td>\n",
       "      <td>1.051546</td>\n",
       "    </tr>\n",
       "    <tr>\n",
       "      <th>...</th>\n",
       "      <td>...</td>\n",
       "      <td>...</td>\n",
       "      <td>...</td>\n",
       "      <td>...</td>\n",
       "      <td>...</td>\n",
       "      <td>...</td>\n",
       "      <td>...</td>\n",
       "      <td>...</td>\n",
       "      <td>...</td>\n",
       "      <td>...</td>\n",
       "      <td>...</td>\n",
       "      <td>...</td>\n",
       "      <td>...</td>\n",
       "      <td>...</td>\n",
       "      <td>...</td>\n",
       "      <td>...</td>\n",
       "      <td>...</td>\n",
       "      <td>...</td>\n",
       "      <td>...</td>\n",
       "      <td>...</td>\n",
       "      <td>...</td>\n",
       "    </tr>\n",
       "    <tr>\n",
       "      <th>2516</th>\n",
       "      <td>4.400822</td>\n",
       "      <td>3.290443</td>\n",
       "      <td>7.319389</td>\n",
       "      <td>1.943431</td>\n",
       "      <td>13.857079</td>\n",
       "      <td>8.269324</td>\n",
       "      <td>1.213329</td>\n",
       "      <td>4.603889</td>\n",
       "      <td>1.380687</td>\n",
       "      <td>2.819316</td>\n",
       "      <td>...</td>\n",
       "      <td>1.881988</td>\n",
       "      <td>17.304001</td>\n",
       "      <td>18.916983</td>\n",
       "      <td>3.070343</td>\n",
       "      <td>6.035155</td>\n",
       "      <td>3.992325</td>\n",
       "      <td>4.579939</td>\n",
       "      <td>2.933955</td>\n",
       "      <td>2.845070</td>\n",
       "      <td>3.904700</td>\n",
       "    </tr>\n",
       "    <tr>\n",
       "      <th>2517</th>\n",
       "      <td>4.413045</td>\n",
       "      <td>3.287267</td>\n",
       "      <td>7.266775</td>\n",
       "      <td>1.957169</td>\n",
       "      <td>13.861339</td>\n",
       "      <td>8.303157</td>\n",
       "      <td>1.195138</td>\n",
       "      <td>4.663327</td>\n",
       "      <td>1.406407</td>\n",
       "      <td>2.807469</td>\n",
       "      <td>...</td>\n",
       "      <td>1.896563</td>\n",
       "      <td>17.513303</td>\n",
       "      <td>19.187380</td>\n",
       "      <td>3.135028</td>\n",
       "      <td>6.014801</td>\n",
       "      <td>4.043006</td>\n",
       "      <td>4.533186</td>\n",
       "      <td>2.886336</td>\n",
       "      <td>2.867928</td>\n",
       "      <td>3.876263</td>\n",
       "    </tr>\n",
       "    <tr>\n",
       "      <th>2518</th>\n",
       "      <td>4.412903</td>\n",
       "      <td>3.235275</td>\n",
       "      <td>7.262256</td>\n",
       "      <td>1.980437</td>\n",
       "      <td>13.679754</td>\n",
       "      <td>8.221169</td>\n",
       "      <td>1.191079</td>\n",
       "      <td>4.656034</td>\n",
       "      <td>1.376406</td>\n",
       "      <td>2.835619</td>\n",
       "      <td>...</td>\n",
       "      <td>1.882204</td>\n",
       "      <td>17.772994</td>\n",
       "      <td>19.324111</td>\n",
       "      <td>3.154355</td>\n",
       "      <td>6.053145</td>\n",
       "      <td>4.009875</td>\n",
       "      <td>4.609275</td>\n",
       "      <td>2.851958</td>\n",
       "      <td>2.840255</td>\n",
       "      <td>3.955396</td>\n",
       "    </tr>\n",
       "    <tr>\n",
       "      <th>2519</th>\n",
       "      <td>4.423573</td>\n",
       "      <td>3.211719</td>\n",
       "      <td>7.241686</td>\n",
       "      <td>1.943089</td>\n",
       "      <td>13.776935</td>\n",
       "      <td>8.263831</td>\n",
       "      <td>1.186764</td>\n",
       "      <td>4.621929</td>\n",
       "      <td>1.385507</td>\n",
       "      <td>2.842578</td>\n",
       "      <td>...</td>\n",
       "      <td>1.869937</td>\n",
       "      <td>17.548698</td>\n",
       "      <td>19.306349</td>\n",
       "      <td>3.169209</td>\n",
       "      <td>6.090859</td>\n",
       "      <td>3.949717</td>\n",
       "      <td>4.621141</td>\n",
       "      <td>2.841628</td>\n",
       "      <td>2.845203</td>\n",
       "      <td>3.896319</td>\n",
       "    </tr>\n",
       "    <tr>\n",
       "      <th>2520</th>\n",
       "      <td>4.349238</td>\n",
       "      <td>3.210678</td>\n",
       "      <td>7.272623</td>\n",
       "      <td>1.942855</td>\n",
       "      <td>14.032733</td>\n",
       "      <td>8.303836</td>\n",
       "      <td>1.203036</td>\n",
       "      <td>4.606906</td>\n",
       "      <td>1.363715</td>\n",
       "      <td>2.775688</td>\n",
       "      <td>...</td>\n",
       "      <td>1.848092</td>\n",
       "      <td>17.587444</td>\n",
       "      <td>18.721578</td>\n",
       "      <td>3.202842</td>\n",
       "      <td>6.125199</td>\n",
       "      <td>3.977525</td>\n",
       "      <td>4.617244</td>\n",
       "      <td>2.890958</td>\n",
       "      <td>2.814943</td>\n",
       "      <td>3.876823</td>\n",
       "    </tr>\n",
       "  </tbody>\n",
       "</table>\n",
       "<p>2521 rows × 500 columns</p>\n",
       "</div>"
      ],
      "text/plain": [
       "           0         1         2         3          4         5         6    \\\n",
       "0     1.000000  1.000000  1.000000  1.000000   1.000000  1.000000  1.000000   \n",
       "1     1.001538  1.001776  0.996925  0.996028   0.995750  1.005365  1.003866   \n",
       "2     0.988453  1.004597  0.994386  0.982383   0.985567  1.022241  0.995960   \n",
       "3     1.003965  1.005747  0.997993  0.974816   0.986071  1.030823  0.999353   \n",
       "4     1.021240  1.004452  0.995621  0.981216   0.992453  1.030635  1.011419   \n",
       "...        ...       ...       ...       ...        ...       ...       ...   \n",
       "2516  4.400822  3.290443  7.319389  1.943431  13.857079  8.269324  1.213329   \n",
       "2517  4.413045  3.287267  7.266775  1.957169  13.861339  8.303157  1.195138   \n",
       "2518  4.412903  3.235275  7.262256  1.980437  13.679754  8.221169  1.191079   \n",
       "2519  4.423573  3.211719  7.241686  1.943089  13.776935  8.263831  1.186764   \n",
       "2520  4.349238  3.210678  7.272623  1.942855  14.032733  8.303836  1.203036   \n",
       "\n",
       "           7         8         9    ...       490        491        492  \\\n",
       "0     1.000000  1.000000  1.000000  ...  1.000000   1.000000   1.000000   \n",
       "1     0.995816  1.009956  1.007015  ...  1.009376   1.007941   1.025128   \n",
       "2     0.996992  0.995620  1.017959  ...  1.017060   1.011779   1.030798   \n",
       "3     0.993979  0.982302  1.008889  ...  1.024856   0.993333   1.020264   \n",
       "4     1.002569  0.987279  1.007059  ...  1.037333   0.977781   1.020710   \n",
       "...        ...       ...       ...  ...       ...        ...        ...   \n",
       "2516  4.603889  1.380687  2.819316  ...  1.881988  17.304001  18.916983   \n",
       "2517  4.663327  1.406407  2.807469  ...  1.896563  17.513303  19.187380   \n",
       "2518  4.656034  1.376406  2.835619  ...  1.882204  17.772994  19.324111   \n",
       "2519  4.621929  1.385507  2.842578  ...  1.869937  17.548698  19.306349   \n",
       "2520  4.606906  1.363715  2.775688  ...  1.848092  17.587444  18.721578   \n",
       "\n",
       "           493       494       495       496       497       498       499  \n",
       "0     1.000000  1.000000  1.000000  1.000000  1.000000  1.000000  1.000000  \n",
       "1     1.001578  1.002999  0.983268  1.013476  1.029535  0.990116  1.012129  \n",
       "2     0.985593  1.012611  0.983106  1.001168  1.013373  0.993411  1.029621  \n",
       "3     0.987800  1.011855  0.974307  1.011169  1.022842  1.001533  1.024105  \n",
       "4     0.982794  1.000392  0.963616  1.007326  1.025758  0.985992  1.051546  \n",
       "...        ...       ...       ...       ...       ...       ...       ...  \n",
       "2516  3.070343  6.035155  3.992325  4.579939  2.933955  2.845070  3.904700  \n",
       "2517  3.135028  6.014801  4.043006  4.533186  2.886336  2.867928  3.876263  \n",
       "2518  3.154355  6.053145  4.009875  4.609275  2.851958  2.840255  3.955396  \n",
       "2519  3.169209  6.090859  3.949717  4.621141  2.841628  2.845203  3.896319  \n",
       "2520  3.202842  6.125199  3.977525  4.617244  2.890958  2.814943  3.876823  \n",
       "\n",
       "[2521 rows x 500 columns]"
      ]
     },
     "execution_count": 123,
     "metadata": {},
     "output_type": "execute_result"
    }
   ],
   "source": [
    "# Run the Monte Carlo simulation to forecast 10 years cumulative returns\n",
    "ten_year_simulation.calc_cumulative_return()\n"
   ]
  },
  {
   "cell_type": "code",
   "execution_count": 124,
   "metadata": {},
   "outputs": [
    {
     "data": {
      "text/plain": [
       "<AxesSubplot:title={'center':'500 Simulations of Cumulative Portfolio Return Trajectories Over the Next 2520 Trading Days.'}>"
      ]
     },
     "execution_count": 124,
     "metadata": {},
     "output_type": "execute_result"
    },
    {
     "data": {
      "image/png": "[encoded data removed]",
      "text/plain": [
       "<Figure size 432x288 with 1 Axes>"
      ]
     },
     "metadata": {
      "needs_background": "light"
     },
     "output_type": "display_data"
    }
   ],
   "source": [
    "# Visualize the 10-year Monte Carlo simulation by creating an\n",
    "# overlay line plot\n",
    "ten_year_simulation.plot_simulation()"
   ]
  },
  {
   "cell_type": "code",
   "execution_count": 126,
   "metadata": {},
   "outputs": [
    {
     "data": {
      "text/plain": [
       "<AxesSubplot:title={'center':'Distribution of Final Cumuluative Returns Across All 500 Simulations'}, ylabel='Frequency'>"
      ]
     },
     "execution_count": 126,
     "metadata": {},
     "output_type": "execute_result"
    },
    {
     "data": {
      "image/png": "[encoded data removed]",
      "text/plain": [
       "<Figure size 432x288 with 1 Axes>"
      ]
     },
     "metadata": {
      "needs_background": "light"
     },
     "output_type": "display_data"
    }
   ],
   "source": [
    "# Visualize the probability distribution of the 10-year Monte Carlo simulation \n",
    "# by plotting a histogram\n",
    "ten_year_simulation.plot_distribution()\n"
   ]
  },
  {
   "cell_type": "code",
   "execution_count": 130,
   "metadata": {},
   "outputs": [
    {
     "data": {
      "text/plain": [
       "count           500.000000\n",
       "mean              5.116432\n",
       "std               3.258863\n",
       "min               0.829194\n",
       "25%               2.875536\n",
       "50%               4.196057\n",
       "75%               6.404990\n",
       "max              20.163493\n",
       "95% CI Lower      1.449226\n",
       "95% CI Upper     14.642996\n",
       "Name: 2520, dtype: float64"
      ]
     },
     "execution_count": 130,
     "metadata": {},
     "output_type": "execute_result"
    }
   ],
   "source": [
    "# Generate summary statistics from the 10-year Monte Carlo simulation results\n",
    "# Save the results as a variable\n",
    "mc_summary_10 = ten_year_simulation.summarize_cumulative_return()\n",
    "\n",
    "\n",
    "# Review the 10-year Monte Carlo summary statistics\n",
    "mc_summary_10"
   ]
  },
  {
   "cell_type": "markdown",
   "metadata": {},
   "source": [
    "### Answer the following questions:"
   ]
  },
  {
   "cell_type": "markdown",
   "metadata": {},
   "source": [
    "#### Question: Using the current value of only the stock and bond portion of the member's portfolio and the summary statistics that you generated from the new Monte Carlo simulation, what are the lower and upper bounds for the expected value of the portfolio (with the new weights) with a 95% confidence interval?"
   ]
  },
  {
   "cell_type": "code",
   "execution_count": 131,
   "metadata": {},
   "outputs": [
    {
     "data": {
      "text/html": [
       "<div>\n",
       "<style scoped>\n",
       "    .dataframe tbody tr th:only-of-type {\n",
       "        vertical-align: middle;\n",
       "    }\n",
       "\n",
       "    .dataframe tbody tr th {\n",
       "        vertical-align: top;\n",
       "    }\n",
       "\n",
       "    .dataframe thead th {\n",
       "        text-align: right;\n",
       "    }\n",
       "</style>\n",
       "<table border=\"1\" class=\"dataframe\">\n",
       "  <thead>\n",
       "    <tr style=\"text-align: right;\">\n",
       "      <th></th>\n",
       "      <th>amount</th>\n",
       "    </tr>\n",
       "  </thead>\n",
       "  <tbody>\n",
       "    <tr>\n",
       "      <th>stock/bond</th>\n",
       "      <td>70640.100</td>\n",
       "    </tr>\n",
       "    <tr>\n",
       "      <th>crypto</th>\n",
       "      <td>55568.693</td>\n",
       "    </tr>\n",
       "  </tbody>\n",
       "</table>\n",
       "</div>"
      ],
      "text/plain": [
       "               amount\n",
       "stock/bond  70640.100\n",
       "crypto      55568.693"
      ]
     },
     "execution_count": 131,
     "metadata": {},
     "output_type": "execute_result"
    }
   ],
   "source": [
    "# Print the current balance of the stock and bond portion of the members portfolio\n",
    "savings_df"
   ]
  },
  {
   "cell_type": "code",
   "execution_count": 133,
   "metadata": {},
   "outputs": [
    {
     "name": "stdout",
     "output_type": "stream",
     "text": [
      "Lower level at 95% Confidence Level $102373.46 and Upper level at 95% Confidence Level $1034382.73\n"
     ]
    }
   ],
   "source": [
    "# Use the lower and upper `95%` confidence intervals to calculate the range of the possible outcomes for the current stock/bond portfolio\n",
    "ci_lower_ten_cumulative_return = savings_df.iloc[0][\"amount\"] * mc_summary_10[\"95% CI Lower\"]\n",
    "ci_upper_ten_cumulative_return = savings_df.iloc[0][\"amount\"] * mc_summary_10[\"95% CI Upper\"]\n",
    "\n",
    "# Print the result of your calculations\n",
    "print(f\"Lower level at 95% Confidence Level ${ci_lower_ten_cumulative_return:.2f} and Upper level at 95% Confidence Level ${ci_upper_ten_cumulative_return:.2f}\")\n"
   ]
  },
  {
   "cell_type": "code",
   "execution_count": 138,
   "metadata": {},
   "outputs": [
    {
     "data": {
      "text/plain": [
       "361425.2802929858"
      ]
     },
     "execution_count": 138,
     "metadata": {},
     "output_type": "execute_result"
    }
   ],
   "source": [
    "ten_mean = savings_df.iloc[0][\"amount\"] * mc_summary_10[\"mean\"]\n",
    "ten_mean"
   ]
  },
  {
   "cell_type": "markdown",
   "metadata": {},
   "source": [
    "#### Question: Will weighting the portfolio more heavily to stocks allow the credit union members to retire after only 10 years?"
   ]
  },
  {
   "cell_type": "raw",
   "metadata": {},
   "source": [
    "**Answer** Since we havent defined what the goal would be to retire, I will use a $500k goal for minimun total savings needed.\n",
    "Given the Monte Carlo simulations, we estimate a mean value of $360k which would be below our set goal. There is given the right market conditions that the goal is met since our 95% CI Upper is at about $1m, but with an equal lower boundary set at $100k."
   ]
  },
  {
   "cell_type": "code",
   "execution_count": null,
   "metadata": {},
   "outputs": [],
   "source": []
  }
 ],
 "metadata": {
  "kernelspec": {
   "display_name": "dev",
   "language": "python",
   "name": "dev"
  },
  "language_info": {
   "codemirror_mode": {
    "name": "ipython",
    "version": 3
   },
   "file_extension": ".py",
   "mimetype": "text/x-python",
   "name": "python",
   "nbconvert_exporter": "python",
   "pygments_lexer": "ipython3",
   "version": "3.7.11"
  }
 },
 "nbformat": 4,
 "nbformat_minor": 4
}
